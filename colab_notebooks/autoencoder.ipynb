{
  "nbformat": 4,
  "nbformat_minor": 0,
  "metadata": {
    "colab": {
      "name": "autoencoder.ipynb",
      "provenance": [],
      "toc_visible": true,
      "collapsed_sections": [
        "4ToT6FHftkxu"
      ],
      "authorship_tag": "ABX9TyPIFedif2eujMvdui1QY0HY",
      "include_colab_link": true
    },
    "kernelspec": {
      "name": "python3",
      "display_name": "Python 3"
    },
    "language_info": {
      "name": "python"
    },
    "widgets": {
      "application/vnd.jupyter.widget-state+json": {
        "46691396abfc458bb71b65563f5cd816": {
          "model_module": "@jupyter-widgets/controls",
          "model_name": "HBoxModel",
          "model_module_version": "1.5.0",
          "state": {
            "_view_name": "HBoxView",
            "_dom_classes": [],
            "_model_name": "HBoxModel",
            "_view_module": "@jupyter-widgets/controls",
            "_model_module_version": "1.5.0",
            "_view_count": null,
            "_view_module_version": "1.5.0",
            "box_style": "",
            "layout": "IPY_MODEL_6af22d831b8047bf971c407724dded19",
            "_model_module": "@jupyter-widgets/controls",
            "children": [
              "IPY_MODEL_bc07462c7d9b408d865bf1609ae69937",
              "IPY_MODEL_c2553b15cfc5484e84e1d76983a678d9",
              "IPY_MODEL_e6f81934e6d14caea25c570f57c1eea7"
            ]
          }
        },
        "6af22d831b8047bf971c407724dded19": {
          "model_module": "@jupyter-widgets/base",
          "model_name": "LayoutModel",
          "model_module_version": "1.2.0",
          "state": {
            "_view_name": "LayoutView",
            "grid_template_rows": null,
            "right": null,
            "justify_content": null,
            "_view_module": "@jupyter-widgets/base",
            "overflow": null,
            "_model_module_version": "1.2.0",
            "_view_count": null,
            "flex_flow": null,
            "width": null,
            "min_width": null,
            "border": null,
            "align_items": null,
            "bottom": null,
            "_model_module": "@jupyter-widgets/base",
            "top": null,
            "grid_column": null,
            "overflow_y": null,
            "overflow_x": null,
            "grid_auto_flow": null,
            "grid_area": null,
            "grid_template_columns": null,
            "flex": null,
            "_model_name": "LayoutModel",
            "justify_items": null,
            "grid_row": null,
            "max_height": null,
            "align_content": null,
            "visibility": null,
            "align_self": null,
            "height": null,
            "min_height": null,
            "padding": null,
            "grid_auto_rows": null,
            "grid_gap": null,
            "max_width": null,
            "order": null,
            "_view_module_version": "1.2.0",
            "grid_template_areas": null,
            "object_position": null,
            "object_fit": null,
            "grid_auto_columns": null,
            "margin": null,
            "display": null,
            "left": null
          }
        },
        "bc07462c7d9b408d865bf1609ae69937": {
          "model_module": "@jupyter-widgets/controls",
          "model_name": "HTMLModel",
          "model_module_version": "1.5.0",
          "state": {
            "_view_name": "HTMLView",
            "style": "IPY_MODEL_45f056394f2b4aa1be130f8cdad73e6f",
            "_dom_classes": [],
            "description": "",
            "_model_name": "HTMLModel",
            "placeholder": "​",
            "_view_module": "@jupyter-widgets/controls",
            "_model_module_version": "1.5.0",
            "value": "",
            "_view_count": null,
            "_view_module_version": "1.5.0",
            "description_tooltip": null,
            "_model_module": "@jupyter-widgets/controls",
            "layout": "IPY_MODEL_c456930eb1924d1f8b96eca620d8bf03"
          }
        },
        "c2553b15cfc5484e84e1d76983a678d9": {
          "model_module": "@jupyter-widgets/controls",
          "model_name": "FloatProgressModel",
          "model_module_version": "1.5.0",
          "state": {
            "_view_name": "ProgressView",
            "style": "IPY_MODEL_fb3ef00556b84e42ae7d3b59b6ce1ea3",
            "_dom_classes": [],
            "description": "",
            "_model_name": "FloatProgressModel",
            "bar_style": "success",
            "max": 26421880,
            "_view_module": "@jupyter-widgets/controls",
            "_model_module_version": "1.5.0",
            "value": 26421880,
            "_view_count": null,
            "_view_module_version": "1.5.0",
            "orientation": "horizontal",
            "min": 0,
            "description_tooltip": null,
            "_model_module": "@jupyter-widgets/controls",
            "layout": "IPY_MODEL_660cee1c30c94027a6aa024b00f00c87"
          }
        },
        "e6f81934e6d14caea25c570f57c1eea7": {
          "model_module": "@jupyter-widgets/controls",
          "model_name": "HTMLModel",
          "model_module_version": "1.5.0",
          "state": {
            "_view_name": "HTMLView",
            "style": "IPY_MODEL_814f27adf2e6486f98606af34c1bf2f5",
            "_dom_classes": [],
            "description": "",
            "_model_name": "HTMLModel",
            "placeholder": "​",
            "_view_module": "@jupyter-widgets/controls",
            "_model_module_version": "1.5.0",
            "value": " 26422272/? [00:01&lt;00:00, 27625194.20it/s]",
            "_view_count": null,
            "_view_module_version": "1.5.0",
            "description_tooltip": null,
            "_model_module": "@jupyter-widgets/controls",
            "layout": "IPY_MODEL_3ef8af9d5ba14fa6811aa6593bf8d934"
          }
        },
        "45f056394f2b4aa1be130f8cdad73e6f": {
          "model_module": "@jupyter-widgets/controls",
          "model_name": "DescriptionStyleModel",
          "model_module_version": "1.5.0",
          "state": {
            "_view_name": "StyleView",
            "_model_name": "DescriptionStyleModel",
            "description_width": "",
            "_view_module": "@jupyter-widgets/base",
            "_model_module_version": "1.5.0",
            "_view_count": null,
            "_view_module_version": "1.2.0",
            "_model_module": "@jupyter-widgets/controls"
          }
        },
        "c456930eb1924d1f8b96eca620d8bf03": {
          "model_module": "@jupyter-widgets/base",
          "model_name": "LayoutModel",
          "model_module_version": "1.2.0",
          "state": {
            "_view_name": "LayoutView",
            "grid_template_rows": null,
            "right": null,
            "justify_content": null,
            "_view_module": "@jupyter-widgets/base",
            "overflow": null,
            "_model_module_version": "1.2.0",
            "_view_count": null,
            "flex_flow": null,
            "width": null,
            "min_width": null,
            "border": null,
            "align_items": null,
            "bottom": null,
            "_model_module": "@jupyter-widgets/base",
            "top": null,
            "grid_column": null,
            "overflow_y": null,
            "overflow_x": null,
            "grid_auto_flow": null,
            "grid_area": null,
            "grid_template_columns": null,
            "flex": null,
            "_model_name": "LayoutModel",
            "justify_items": null,
            "grid_row": null,
            "max_height": null,
            "align_content": null,
            "visibility": null,
            "align_self": null,
            "height": null,
            "min_height": null,
            "padding": null,
            "grid_auto_rows": null,
            "grid_gap": null,
            "max_width": null,
            "order": null,
            "_view_module_version": "1.2.0",
            "grid_template_areas": null,
            "object_position": null,
            "object_fit": null,
            "grid_auto_columns": null,
            "margin": null,
            "display": null,
            "left": null
          }
        },
        "fb3ef00556b84e42ae7d3b59b6ce1ea3": {
          "model_module": "@jupyter-widgets/controls",
          "model_name": "ProgressStyleModel",
          "model_module_version": "1.5.0",
          "state": {
            "_view_name": "StyleView",
            "_model_name": "ProgressStyleModel",
            "description_width": "",
            "_view_module": "@jupyter-widgets/base",
            "_model_module_version": "1.5.0",
            "_view_count": null,
            "_view_module_version": "1.2.0",
            "bar_color": null,
            "_model_module": "@jupyter-widgets/controls"
          }
        },
        "660cee1c30c94027a6aa024b00f00c87": {
          "model_module": "@jupyter-widgets/base",
          "model_name": "LayoutModel",
          "model_module_version": "1.2.0",
          "state": {
            "_view_name": "LayoutView",
            "grid_template_rows": null,
            "right": null,
            "justify_content": null,
            "_view_module": "@jupyter-widgets/base",
            "overflow": null,
            "_model_module_version": "1.2.0",
            "_view_count": null,
            "flex_flow": null,
            "width": null,
            "min_width": null,
            "border": null,
            "align_items": null,
            "bottom": null,
            "_model_module": "@jupyter-widgets/base",
            "top": null,
            "grid_column": null,
            "overflow_y": null,
            "overflow_x": null,
            "grid_auto_flow": null,
            "grid_area": null,
            "grid_template_columns": null,
            "flex": null,
            "_model_name": "LayoutModel",
            "justify_items": null,
            "grid_row": null,
            "max_height": null,
            "align_content": null,
            "visibility": null,
            "align_self": null,
            "height": null,
            "min_height": null,
            "padding": null,
            "grid_auto_rows": null,
            "grid_gap": null,
            "max_width": null,
            "order": null,
            "_view_module_version": "1.2.0",
            "grid_template_areas": null,
            "object_position": null,
            "object_fit": null,
            "grid_auto_columns": null,
            "margin": null,
            "display": null,
            "left": null
          }
        },
        "814f27adf2e6486f98606af34c1bf2f5": {
          "model_module": "@jupyter-widgets/controls",
          "model_name": "DescriptionStyleModel",
          "model_module_version": "1.5.0",
          "state": {
            "_view_name": "StyleView",
            "_model_name": "DescriptionStyleModel",
            "description_width": "",
            "_view_module": "@jupyter-widgets/base",
            "_model_module_version": "1.5.0",
            "_view_count": null,
            "_view_module_version": "1.2.0",
            "_model_module": "@jupyter-widgets/controls"
          }
        },
        "3ef8af9d5ba14fa6811aa6593bf8d934": {
          "model_module": "@jupyter-widgets/base",
          "model_name": "LayoutModel",
          "model_module_version": "1.2.0",
          "state": {
            "_view_name": "LayoutView",
            "grid_template_rows": null,
            "right": null,
            "justify_content": null,
            "_view_module": "@jupyter-widgets/base",
            "overflow": null,
            "_model_module_version": "1.2.0",
            "_view_count": null,
            "flex_flow": null,
            "width": null,
            "min_width": null,
            "border": null,
            "align_items": null,
            "bottom": null,
            "_model_module": "@jupyter-widgets/base",
            "top": null,
            "grid_column": null,
            "overflow_y": null,
            "overflow_x": null,
            "grid_auto_flow": null,
            "grid_area": null,
            "grid_template_columns": null,
            "flex": null,
            "_model_name": "LayoutModel",
            "justify_items": null,
            "grid_row": null,
            "max_height": null,
            "align_content": null,
            "visibility": null,
            "align_self": null,
            "height": null,
            "min_height": null,
            "padding": null,
            "grid_auto_rows": null,
            "grid_gap": null,
            "max_width": null,
            "order": null,
            "_view_module_version": "1.2.0",
            "grid_template_areas": null,
            "object_position": null,
            "object_fit": null,
            "grid_auto_columns": null,
            "margin": null,
            "display": null,
            "left": null
          }
        },
        "2d942018f5784b9ba69d97bceab589c3": {
          "model_module": "@jupyter-widgets/controls",
          "model_name": "HBoxModel",
          "model_module_version": "1.5.0",
          "state": {
            "_view_name": "HBoxView",
            "_dom_classes": [],
            "_model_name": "HBoxModel",
            "_view_module": "@jupyter-widgets/controls",
            "_model_module_version": "1.5.0",
            "_view_count": null,
            "_view_module_version": "1.5.0",
            "box_style": "",
            "layout": "IPY_MODEL_567032bb30ee4b1fb4dbdadbb0d27f87",
            "_model_module": "@jupyter-widgets/controls",
            "children": [
              "IPY_MODEL_a104164ab15546debe671267dadaefe6",
              "IPY_MODEL_157f8a01a5774fc3a43dab87ba974d40",
              "IPY_MODEL_07237ae68a444c1cb3d60e256a43a6b8"
            ]
          }
        },
        "567032bb30ee4b1fb4dbdadbb0d27f87": {
          "model_module": "@jupyter-widgets/base",
          "model_name": "LayoutModel",
          "model_module_version": "1.2.0",
          "state": {
            "_view_name": "LayoutView",
            "grid_template_rows": null,
            "right": null,
            "justify_content": null,
            "_view_module": "@jupyter-widgets/base",
            "overflow": null,
            "_model_module_version": "1.2.0",
            "_view_count": null,
            "flex_flow": null,
            "width": null,
            "min_width": null,
            "border": null,
            "align_items": null,
            "bottom": null,
            "_model_module": "@jupyter-widgets/base",
            "top": null,
            "grid_column": null,
            "overflow_y": null,
            "overflow_x": null,
            "grid_auto_flow": null,
            "grid_area": null,
            "grid_template_columns": null,
            "flex": null,
            "_model_name": "LayoutModel",
            "justify_items": null,
            "grid_row": null,
            "max_height": null,
            "align_content": null,
            "visibility": null,
            "align_self": null,
            "height": null,
            "min_height": null,
            "padding": null,
            "grid_auto_rows": null,
            "grid_gap": null,
            "max_width": null,
            "order": null,
            "_view_module_version": "1.2.0",
            "grid_template_areas": null,
            "object_position": null,
            "object_fit": null,
            "grid_auto_columns": null,
            "margin": null,
            "display": null,
            "left": null
          }
        },
        "a104164ab15546debe671267dadaefe6": {
          "model_module": "@jupyter-widgets/controls",
          "model_name": "HTMLModel",
          "model_module_version": "1.5.0",
          "state": {
            "_view_name": "HTMLView",
            "style": "IPY_MODEL_48ecf1ff83b741b3934274b2e3cf5934",
            "_dom_classes": [],
            "description": "",
            "_model_name": "HTMLModel",
            "placeholder": "​",
            "_view_module": "@jupyter-widgets/controls",
            "_model_module_version": "1.5.0",
            "value": "",
            "_view_count": null,
            "_view_module_version": "1.5.0",
            "description_tooltip": null,
            "_model_module": "@jupyter-widgets/controls",
            "layout": "IPY_MODEL_c88de3a9b92c4d3ea8e7933ba4d7c55d"
          }
        },
        "157f8a01a5774fc3a43dab87ba974d40": {
          "model_module": "@jupyter-widgets/controls",
          "model_name": "FloatProgressModel",
          "model_module_version": "1.5.0",
          "state": {
            "_view_name": "ProgressView",
            "style": "IPY_MODEL_e00ceaa639a845e89e0441ddc9ee55fc",
            "_dom_classes": [],
            "description": "",
            "_model_name": "FloatProgressModel",
            "bar_style": "success",
            "max": 29515,
            "_view_module": "@jupyter-widgets/controls",
            "_model_module_version": "1.5.0",
            "value": 29515,
            "_view_count": null,
            "_view_module_version": "1.5.0",
            "orientation": "horizontal",
            "min": 0,
            "description_tooltip": null,
            "_model_module": "@jupyter-widgets/controls",
            "layout": "IPY_MODEL_a9c1e7446a96413691a0f463ade7ae2d"
          }
        },
        "07237ae68a444c1cb3d60e256a43a6b8": {
          "model_module": "@jupyter-widgets/controls",
          "model_name": "HTMLModel",
          "model_module_version": "1.5.0",
          "state": {
            "_view_name": "HTMLView",
            "style": "IPY_MODEL_df1145c7c77d454e9cbc2ea3518f101e",
            "_dom_classes": [],
            "description": "",
            "_model_name": "HTMLModel",
            "placeholder": "​",
            "_view_module": "@jupyter-widgets/controls",
            "_model_module_version": "1.5.0",
            "value": " 29696/? [00:00&lt;00:00, 300976.61it/s]",
            "_view_count": null,
            "_view_module_version": "1.5.0",
            "description_tooltip": null,
            "_model_module": "@jupyter-widgets/controls",
            "layout": "IPY_MODEL_753a3e2e8df544919406a7f2c0eb8663"
          }
        },
        "48ecf1ff83b741b3934274b2e3cf5934": {
          "model_module": "@jupyter-widgets/controls",
          "model_name": "DescriptionStyleModel",
          "model_module_version": "1.5.0",
          "state": {
            "_view_name": "StyleView",
            "_model_name": "DescriptionStyleModel",
            "description_width": "",
            "_view_module": "@jupyter-widgets/base",
            "_model_module_version": "1.5.0",
            "_view_count": null,
            "_view_module_version": "1.2.0",
            "_model_module": "@jupyter-widgets/controls"
          }
        },
        "c88de3a9b92c4d3ea8e7933ba4d7c55d": {
          "model_module": "@jupyter-widgets/base",
          "model_name": "LayoutModel",
          "model_module_version": "1.2.0",
          "state": {
            "_view_name": "LayoutView",
            "grid_template_rows": null,
            "right": null,
            "justify_content": null,
            "_view_module": "@jupyter-widgets/base",
            "overflow": null,
            "_model_module_version": "1.2.0",
            "_view_count": null,
            "flex_flow": null,
            "width": null,
            "min_width": null,
            "border": null,
            "align_items": null,
            "bottom": null,
            "_model_module": "@jupyter-widgets/base",
            "top": null,
            "grid_column": null,
            "overflow_y": null,
            "overflow_x": null,
            "grid_auto_flow": null,
            "grid_area": null,
            "grid_template_columns": null,
            "flex": null,
            "_model_name": "LayoutModel",
            "justify_items": null,
            "grid_row": null,
            "max_height": null,
            "align_content": null,
            "visibility": null,
            "align_self": null,
            "height": null,
            "min_height": null,
            "padding": null,
            "grid_auto_rows": null,
            "grid_gap": null,
            "max_width": null,
            "order": null,
            "_view_module_version": "1.2.0",
            "grid_template_areas": null,
            "object_position": null,
            "object_fit": null,
            "grid_auto_columns": null,
            "margin": null,
            "display": null,
            "left": null
          }
        },
        "e00ceaa639a845e89e0441ddc9ee55fc": {
          "model_module": "@jupyter-widgets/controls",
          "model_name": "ProgressStyleModel",
          "model_module_version": "1.5.0",
          "state": {
            "_view_name": "StyleView",
            "_model_name": "ProgressStyleModel",
            "description_width": "",
            "_view_module": "@jupyter-widgets/base",
            "_model_module_version": "1.5.0",
            "_view_count": null,
            "_view_module_version": "1.2.0",
            "bar_color": null,
            "_model_module": "@jupyter-widgets/controls"
          }
        },
        "a9c1e7446a96413691a0f463ade7ae2d": {
          "model_module": "@jupyter-widgets/base",
          "model_name": "LayoutModel",
          "model_module_version": "1.2.0",
          "state": {
            "_view_name": "LayoutView",
            "grid_template_rows": null,
            "right": null,
            "justify_content": null,
            "_view_module": "@jupyter-widgets/base",
            "overflow": null,
            "_model_module_version": "1.2.0",
            "_view_count": null,
            "flex_flow": null,
            "width": null,
            "min_width": null,
            "border": null,
            "align_items": null,
            "bottom": null,
            "_model_module": "@jupyter-widgets/base",
            "top": null,
            "grid_column": null,
            "overflow_y": null,
            "overflow_x": null,
            "grid_auto_flow": null,
            "grid_area": null,
            "grid_template_columns": null,
            "flex": null,
            "_model_name": "LayoutModel",
            "justify_items": null,
            "grid_row": null,
            "max_height": null,
            "align_content": null,
            "visibility": null,
            "align_self": null,
            "height": null,
            "min_height": null,
            "padding": null,
            "grid_auto_rows": null,
            "grid_gap": null,
            "max_width": null,
            "order": null,
            "_view_module_version": "1.2.0",
            "grid_template_areas": null,
            "object_position": null,
            "object_fit": null,
            "grid_auto_columns": null,
            "margin": null,
            "display": null,
            "left": null
          }
        },
        "df1145c7c77d454e9cbc2ea3518f101e": {
          "model_module": "@jupyter-widgets/controls",
          "model_name": "DescriptionStyleModel",
          "model_module_version": "1.5.0",
          "state": {
            "_view_name": "StyleView",
            "_model_name": "DescriptionStyleModel",
            "description_width": "",
            "_view_module": "@jupyter-widgets/base",
            "_model_module_version": "1.5.0",
            "_view_count": null,
            "_view_module_version": "1.2.0",
            "_model_module": "@jupyter-widgets/controls"
          }
        },
        "753a3e2e8df544919406a7f2c0eb8663": {
          "model_module": "@jupyter-widgets/base",
          "model_name": "LayoutModel",
          "model_module_version": "1.2.0",
          "state": {
            "_view_name": "LayoutView",
            "grid_template_rows": null,
            "right": null,
            "justify_content": null,
            "_view_module": "@jupyter-widgets/base",
            "overflow": null,
            "_model_module_version": "1.2.0",
            "_view_count": null,
            "flex_flow": null,
            "width": null,
            "min_width": null,
            "border": null,
            "align_items": null,
            "bottom": null,
            "_model_module": "@jupyter-widgets/base",
            "top": null,
            "grid_column": null,
            "overflow_y": null,
            "overflow_x": null,
            "grid_auto_flow": null,
            "grid_area": null,
            "grid_template_columns": null,
            "flex": null,
            "_model_name": "LayoutModel",
            "justify_items": null,
            "grid_row": null,
            "max_height": null,
            "align_content": null,
            "visibility": null,
            "align_self": null,
            "height": null,
            "min_height": null,
            "padding": null,
            "grid_auto_rows": null,
            "grid_gap": null,
            "max_width": null,
            "order": null,
            "_view_module_version": "1.2.0",
            "grid_template_areas": null,
            "object_position": null,
            "object_fit": null,
            "grid_auto_columns": null,
            "margin": null,
            "display": null,
            "left": null
          }
        },
        "607f719762174013a22912cb50fc4d54": {
          "model_module": "@jupyter-widgets/controls",
          "model_name": "HBoxModel",
          "model_module_version": "1.5.0",
          "state": {
            "_view_name": "HBoxView",
            "_dom_classes": [],
            "_model_name": "HBoxModel",
            "_view_module": "@jupyter-widgets/controls",
            "_model_module_version": "1.5.0",
            "_view_count": null,
            "_view_module_version": "1.5.0",
            "box_style": "",
            "layout": "IPY_MODEL_679853576a914266b148e13e8620fcf5",
            "_model_module": "@jupyter-widgets/controls",
            "children": [
              "IPY_MODEL_c562f40eb78a4236b281fe6d872e277f",
              "IPY_MODEL_85e5967bf9074f2ea8d43f76c57c1e2b",
              "IPY_MODEL_bab639147040493f924d87e25cb6fbb9"
            ]
          }
        },
        "679853576a914266b148e13e8620fcf5": {
          "model_module": "@jupyter-widgets/base",
          "model_name": "LayoutModel",
          "model_module_version": "1.2.0",
          "state": {
            "_view_name": "LayoutView",
            "grid_template_rows": null,
            "right": null,
            "justify_content": null,
            "_view_module": "@jupyter-widgets/base",
            "overflow": null,
            "_model_module_version": "1.2.0",
            "_view_count": null,
            "flex_flow": null,
            "width": null,
            "min_width": null,
            "border": null,
            "align_items": null,
            "bottom": null,
            "_model_module": "@jupyter-widgets/base",
            "top": null,
            "grid_column": null,
            "overflow_y": null,
            "overflow_x": null,
            "grid_auto_flow": null,
            "grid_area": null,
            "grid_template_columns": null,
            "flex": null,
            "_model_name": "LayoutModel",
            "justify_items": null,
            "grid_row": null,
            "max_height": null,
            "align_content": null,
            "visibility": null,
            "align_self": null,
            "height": null,
            "min_height": null,
            "padding": null,
            "grid_auto_rows": null,
            "grid_gap": null,
            "max_width": null,
            "order": null,
            "_view_module_version": "1.2.0",
            "grid_template_areas": null,
            "object_position": null,
            "object_fit": null,
            "grid_auto_columns": null,
            "margin": null,
            "display": null,
            "left": null
          }
        },
        "c562f40eb78a4236b281fe6d872e277f": {
          "model_module": "@jupyter-widgets/controls",
          "model_name": "HTMLModel",
          "model_module_version": "1.5.0",
          "state": {
            "_view_name": "HTMLView",
            "style": "IPY_MODEL_490ffe7208bc4194b6d364de5dc0b5d4",
            "_dom_classes": [],
            "description": "",
            "_model_name": "HTMLModel",
            "placeholder": "​",
            "_view_module": "@jupyter-widgets/controls",
            "_model_module_version": "1.5.0",
            "value": "",
            "_view_count": null,
            "_view_module_version": "1.5.0",
            "description_tooltip": null,
            "_model_module": "@jupyter-widgets/controls",
            "layout": "IPY_MODEL_af4f31516c7e414d8f28c0605e35a2a1"
          }
        },
        "85e5967bf9074f2ea8d43f76c57c1e2b": {
          "model_module": "@jupyter-widgets/controls",
          "model_name": "FloatProgressModel",
          "model_module_version": "1.5.0",
          "state": {
            "_view_name": "ProgressView",
            "style": "IPY_MODEL_89b71d307b8b4f38ba6a98e9620af943",
            "_dom_classes": [],
            "description": "",
            "_model_name": "FloatProgressModel",
            "bar_style": "success",
            "max": 4422102,
            "_view_module": "@jupyter-widgets/controls",
            "_model_module_version": "1.5.0",
            "value": 4422102,
            "_view_count": null,
            "_view_module_version": "1.5.0",
            "orientation": "horizontal",
            "min": 0,
            "description_tooltip": null,
            "_model_module": "@jupyter-widgets/controls",
            "layout": "IPY_MODEL_5b414772cc3944298a1e47d9198df3d3"
          }
        },
        "bab639147040493f924d87e25cb6fbb9": {
          "model_module": "@jupyter-widgets/controls",
          "model_name": "HTMLModel",
          "model_module_version": "1.5.0",
          "state": {
            "_view_name": "HTMLView",
            "style": "IPY_MODEL_0f9d9db6496e4ea8abfdf3224023ae90",
            "_dom_classes": [],
            "description": "",
            "_model_name": "HTMLModel",
            "placeholder": "​",
            "_view_module": "@jupyter-widgets/controls",
            "_model_module_version": "1.5.0",
            "value": " 4422656/? [00:00&lt;00:00, 6410912.87it/s]",
            "_view_count": null,
            "_view_module_version": "1.5.0",
            "description_tooltip": null,
            "_model_module": "@jupyter-widgets/controls",
            "layout": "IPY_MODEL_a18812810ec243689979a3f2f9382809"
          }
        },
        "490ffe7208bc4194b6d364de5dc0b5d4": {
          "model_module": "@jupyter-widgets/controls",
          "model_name": "DescriptionStyleModel",
          "model_module_version": "1.5.0",
          "state": {
            "_view_name": "StyleView",
            "_model_name": "DescriptionStyleModel",
            "description_width": "",
            "_view_module": "@jupyter-widgets/base",
            "_model_module_version": "1.5.0",
            "_view_count": null,
            "_view_module_version": "1.2.0",
            "_model_module": "@jupyter-widgets/controls"
          }
        },
        "af4f31516c7e414d8f28c0605e35a2a1": {
          "model_module": "@jupyter-widgets/base",
          "model_name": "LayoutModel",
          "model_module_version": "1.2.0",
          "state": {
            "_view_name": "LayoutView",
            "grid_template_rows": null,
            "right": null,
            "justify_content": null,
            "_view_module": "@jupyter-widgets/base",
            "overflow": null,
            "_model_module_version": "1.2.0",
            "_view_count": null,
            "flex_flow": null,
            "width": null,
            "min_width": null,
            "border": null,
            "align_items": null,
            "bottom": null,
            "_model_module": "@jupyter-widgets/base",
            "top": null,
            "grid_column": null,
            "overflow_y": null,
            "overflow_x": null,
            "grid_auto_flow": null,
            "grid_area": null,
            "grid_template_columns": null,
            "flex": null,
            "_model_name": "LayoutModel",
            "justify_items": null,
            "grid_row": null,
            "max_height": null,
            "align_content": null,
            "visibility": null,
            "align_self": null,
            "height": null,
            "min_height": null,
            "padding": null,
            "grid_auto_rows": null,
            "grid_gap": null,
            "max_width": null,
            "order": null,
            "_view_module_version": "1.2.0",
            "grid_template_areas": null,
            "object_position": null,
            "object_fit": null,
            "grid_auto_columns": null,
            "margin": null,
            "display": null,
            "left": null
          }
        },
        "89b71d307b8b4f38ba6a98e9620af943": {
          "model_module": "@jupyter-widgets/controls",
          "model_name": "ProgressStyleModel",
          "model_module_version": "1.5.0",
          "state": {
            "_view_name": "StyleView",
            "_model_name": "ProgressStyleModel",
            "description_width": "",
            "_view_module": "@jupyter-widgets/base",
            "_model_module_version": "1.5.0",
            "_view_count": null,
            "_view_module_version": "1.2.0",
            "bar_color": null,
            "_model_module": "@jupyter-widgets/controls"
          }
        },
        "5b414772cc3944298a1e47d9198df3d3": {
          "model_module": "@jupyter-widgets/base",
          "model_name": "LayoutModel",
          "model_module_version": "1.2.0",
          "state": {
            "_view_name": "LayoutView",
            "grid_template_rows": null,
            "right": null,
            "justify_content": null,
            "_view_module": "@jupyter-widgets/base",
            "overflow": null,
            "_model_module_version": "1.2.0",
            "_view_count": null,
            "flex_flow": null,
            "width": null,
            "min_width": null,
            "border": null,
            "align_items": null,
            "bottom": null,
            "_model_module": "@jupyter-widgets/base",
            "top": null,
            "grid_column": null,
            "overflow_y": null,
            "overflow_x": null,
            "grid_auto_flow": null,
            "grid_area": null,
            "grid_template_columns": null,
            "flex": null,
            "_model_name": "LayoutModel",
            "justify_items": null,
            "grid_row": null,
            "max_height": null,
            "align_content": null,
            "visibility": null,
            "align_self": null,
            "height": null,
            "min_height": null,
            "padding": null,
            "grid_auto_rows": null,
            "grid_gap": null,
            "max_width": null,
            "order": null,
            "_view_module_version": "1.2.0",
            "grid_template_areas": null,
            "object_position": null,
            "object_fit": null,
            "grid_auto_columns": null,
            "margin": null,
            "display": null,
            "left": null
          }
        },
        "0f9d9db6496e4ea8abfdf3224023ae90": {
          "model_module": "@jupyter-widgets/controls",
          "model_name": "DescriptionStyleModel",
          "model_module_version": "1.5.0",
          "state": {
            "_view_name": "StyleView",
            "_model_name": "DescriptionStyleModel",
            "description_width": "",
            "_view_module": "@jupyter-widgets/base",
            "_model_module_version": "1.5.0",
            "_view_count": null,
            "_view_module_version": "1.2.0",
            "_model_module": "@jupyter-widgets/controls"
          }
        },
        "a18812810ec243689979a3f2f9382809": {
          "model_module": "@jupyter-widgets/base",
          "model_name": "LayoutModel",
          "model_module_version": "1.2.0",
          "state": {
            "_view_name": "LayoutView",
            "grid_template_rows": null,
            "right": null,
            "justify_content": null,
            "_view_module": "@jupyter-widgets/base",
            "overflow": null,
            "_model_module_version": "1.2.0",
            "_view_count": null,
            "flex_flow": null,
            "width": null,
            "min_width": null,
            "border": null,
            "align_items": null,
            "bottom": null,
            "_model_module": "@jupyter-widgets/base",
            "top": null,
            "grid_column": null,
            "overflow_y": null,
            "overflow_x": null,
            "grid_auto_flow": null,
            "grid_area": null,
            "grid_template_columns": null,
            "flex": null,
            "_model_name": "LayoutModel",
            "justify_items": null,
            "grid_row": null,
            "max_height": null,
            "align_content": null,
            "visibility": null,
            "align_self": null,
            "height": null,
            "min_height": null,
            "padding": null,
            "grid_auto_rows": null,
            "grid_gap": null,
            "max_width": null,
            "order": null,
            "_view_module_version": "1.2.0",
            "grid_template_areas": null,
            "object_position": null,
            "object_fit": null,
            "grid_auto_columns": null,
            "margin": null,
            "display": null,
            "left": null
          }
        },
        "be68364a85db43f9bc8c3b2fd4efa1ed": {
          "model_module": "@jupyter-widgets/controls",
          "model_name": "HBoxModel",
          "model_module_version": "1.5.0",
          "state": {
            "_view_name": "HBoxView",
            "_dom_classes": [],
            "_model_name": "HBoxModel",
            "_view_module": "@jupyter-widgets/controls",
            "_model_module_version": "1.5.0",
            "_view_count": null,
            "_view_module_version": "1.5.0",
            "box_style": "",
            "layout": "IPY_MODEL_1622b485c9184eb7a9c8c845ffc481a7",
            "_model_module": "@jupyter-widgets/controls",
            "children": [
              "IPY_MODEL_c2f54b41b1e44bc29dde51bf5c81488a",
              "IPY_MODEL_f815a07e3a3643e48b6ae47125f59895",
              "IPY_MODEL_75c858d9435148ee8606b0c8f04fe05e"
            ]
          }
        },
        "1622b485c9184eb7a9c8c845ffc481a7": {
          "model_module": "@jupyter-widgets/base",
          "model_name": "LayoutModel",
          "model_module_version": "1.2.0",
          "state": {
            "_view_name": "LayoutView",
            "grid_template_rows": null,
            "right": null,
            "justify_content": null,
            "_view_module": "@jupyter-widgets/base",
            "overflow": null,
            "_model_module_version": "1.2.0",
            "_view_count": null,
            "flex_flow": null,
            "width": null,
            "min_width": null,
            "border": null,
            "align_items": null,
            "bottom": null,
            "_model_module": "@jupyter-widgets/base",
            "top": null,
            "grid_column": null,
            "overflow_y": null,
            "overflow_x": null,
            "grid_auto_flow": null,
            "grid_area": null,
            "grid_template_columns": null,
            "flex": null,
            "_model_name": "LayoutModel",
            "justify_items": null,
            "grid_row": null,
            "max_height": null,
            "align_content": null,
            "visibility": null,
            "align_self": null,
            "height": null,
            "min_height": null,
            "padding": null,
            "grid_auto_rows": null,
            "grid_gap": null,
            "max_width": null,
            "order": null,
            "_view_module_version": "1.2.0",
            "grid_template_areas": null,
            "object_position": null,
            "object_fit": null,
            "grid_auto_columns": null,
            "margin": null,
            "display": null,
            "left": null
          }
        },
        "c2f54b41b1e44bc29dde51bf5c81488a": {
          "model_module": "@jupyter-widgets/controls",
          "model_name": "HTMLModel",
          "model_module_version": "1.5.0",
          "state": {
            "_view_name": "HTMLView",
            "style": "IPY_MODEL_b4960cffcd8443248be749c3e3fc2db6",
            "_dom_classes": [],
            "description": "",
            "_model_name": "HTMLModel",
            "placeholder": "​",
            "_view_module": "@jupyter-widgets/controls",
            "_model_module_version": "1.5.0",
            "value": "",
            "_view_count": null,
            "_view_module_version": "1.5.0",
            "description_tooltip": null,
            "_model_module": "@jupyter-widgets/controls",
            "layout": "IPY_MODEL_9fc11794dad043d387c52e2a254e7326"
          }
        },
        "f815a07e3a3643e48b6ae47125f59895": {
          "model_module": "@jupyter-widgets/controls",
          "model_name": "FloatProgressModel",
          "model_module_version": "1.5.0",
          "state": {
            "_view_name": "ProgressView",
            "style": "IPY_MODEL_56d45d0971c9489bb517d4ee897c6b61",
            "_dom_classes": [],
            "description": "",
            "_model_name": "FloatProgressModel",
            "bar_style": "success",
            "max": 5148,
            "_view_module": "@jupyter-widgets/controls",
            "_model_module_version": "1.5.0",
            "value": 5148,
            "_view_count": null,
            "_view_module_version": "1.5.0",
            "orientation": "horizontal",
            "min": 0,
            "description_tooltip": null,
            "_model_module": "@jupyter-widgets/controls",
            "layout": "IPY_MODEL_0a61cf4fdd9947c598364717792028eb"
          }
        },
        "75c858d9435148ee8606b0c8f04fe05e": {
          "model_module": "@jupyter-widgets/controls",
          "model_name": "HTMLModel",
          "model_module_version": "1.5.0",
          "state": {
            "_view_name": "HTMLView",
            "style": "IPY_MODEL_a7a227813064467d9faf7128e0cda1b6",
            "_dom_classes": [],
            "description": "",
            "_model_name": "HTMLModel",
            "placeholder": "​",
            "_view_module": "@jupyter-widgets/controls",
            "_model_module_version": "1.5.0",
            "value": " 6144/? [00:00&lt;00:00, 112346.45it/s]",
            "_view_count": null,
            "_view_module_version": "1.5.0",
            "description_tooltip": null,
            "_model_module": "@jupyter-widgets/controls",
            "layout": "IPY_MODEL_6e9b940c92064dd49056b3f288413fc4"
          }
        },
        "b4960cffcd8443248be749c3e3fc2db6": {
          "model_module": "@jupyter-widgets/controls",
          "model_name": "DescriptionStyleModel",
          "model_module_version": "1.5.0",
          "state": {
            "_view_name": "StyleView",
            "_model_name": "DescriptionStyleModel",
            "description_width": "",
            "_view_module": "@jupyter-widgets/base",
            "_model_module_version": "1.5.0",
            "_view_count": null,
            "_view_module_version": "1.2.0",
            "_model_module": "@jupyter-widgets/controls"
          }
        },
        "9fc11794dad043d387c52e2a254e7326": {
          "model_module": "@jupyter-widgets/base",
          "model_name": "LayoutModel",
          "model_module_version": "1.2.0",
          "state": {
            "_view_name": "LayoutView",
            "grid_template_rows": null,
            "right": null,
            "justify_content": null,
            "_view_module": "@jupyter-widgets/base",
            "overflow": null,
            "_model_module_version": "1.2.0",
            "_view_count": null,
            "flex_flow": null,
            "width": null,
            "min_width": null,
            "border": null,
            "align_items": null,
            "bottom": null,
            "_model_module": "@jupyter-widgets/base",
            "top": null,
            "grid_column": null,
            "overflow_y": null,
            "overflow_x": null,
            "grid_auto_flow": null,
            "grid_area": null,
            "grid_template_columns": null,
            "flex": null,
            "_model_name": "LayoutModel",
            "justify_items": null,
            "grid_row": null,
            "max_height": null,
            "align_content": null,
            "visibility": null,
            "align_self": null,
            "height": null,
            "min_height": null,
            "padding": null,
            "grid_auto_rows": null,
            "grid_gap": null,
            "max_width": null,
            "order": null,
            "_view_module_version": "1.2.0",
            "grid_template_areas": null,
            "object_position": null,
            "object_fit": null,
            "grid_auto_columns": null,
            "margin": null,
            "display": null,
            "left": null
          }
        },
        "56d45d0971c9489bb517d4ee897c6b61": {
          "model_module": "@jupyter-widgets/controls",
          "model_name": "ProgressStyleModel",
          "model_module_version": "1.5.0",
          "state": {
            "_view_name": "StyleView",
            "_model_name": "ProgressStyleModel",
            "description_width": "",
            "_view_module": "@jupyter-widgets/base",
            "_model_module_version": "1.5.0",
            "_view_count": null,
            "_view_module_version": "1.2.0",
            "bar_color": null,
            "_model_module": "@jupyter-widgets/controls"
          }
        },
        "0a61cf4fdd9947c598364717792028eb": {
          "model_module": "@jupyter-widgets/base",
          "model_name": "LayoutModel",
          "model_module_version": "1.2.0",
          "state": {
            "_view_name": "LayoutView",
            "grid_template_rows": null,
            "right": null,
            "justify_content": null,
            "_view_module": "@jupyter-widgets/base",
            "overflow": null,
            "_model_module_version": "1.2.0",
            "_view_count": null,
            "flex_flow": null,
            "width": null,
            "min_width": null,
            "border": null,
            "align_items": null,
            "bottom": null,
            "_model_module": "@jupyter-widgets/base",
            "top": null,
            "grid_column": null,
            "overflow_y": null,
            "overflow_x": null,
            "grid_auto_flow": null,
            "grid_area": null,
            "grid_template_columns": null,
            "flex": null,
            "_model_name": "LayoutModel",
            "justify_items": null,
            "grid_row": null,
            "max_height": null,
            "align_content": null,
            "visibility": null,
            "align_self": null,
            "height": null,
            "min_height": null,
            "padding": null,
            "grid_auto_rows": null,
            "grid_gap": null,
            "max_width": null,
            "order": null,
            "_view_module_version": "1.2.0",
            "grid_template_areas": null,
            "object_position": null,
            "object_fit": null,
            "grid_auto_columns": null,
            "margin": null,
            "display": null,
            "left": null
          }
        },
        "a7a227813064467d9faf7128e0cda1b6": {
          "model_module": "@jupyter-widgets/controls",
          "model_name": "DescriptionStyleModel",
          "model_module_version": "1.5.0",
          "state": {
            "_view_name": "StyleView",
            "_model_name": "DescriptionStyleModel",
            "description_width": "",
            "_view_module": "@jupyter-widgets/base",
            "_model_module_version": "1.5.0",
            "_view_count": null,
            "_view_module_version": "1.2.0",
            "_model_module": "@jupyter-widgets/controls"
          }
        },
        "6e9b940c92064dd49056b3f288413fc4": {
          "model_module": "@jupyter-widgets/base",
          "model_name": "LayoutModel",
          "model_module_version": "1.2.0",
          "state": {
            "_view_name": "LayoutView",
            "grid_template_rows": null,
            "right": null,
            "justify_content": null,
            "_view_module": "@jupyter-widgets/base",
            "overflow": null,
            "_model_module_version": "1.2.0",
            "_view_count": null,
            "flex_flow": null,
            "width": null,
            "min_width": null,
            "border": null,
            "align_items": null,
            "bottom": null,
            "_model_module": "@jupyter-widgets/base",
            "top": null,
            "grid_column": null,
            "overflow_y": null,
            "overflow_x": null,
            "grid_auto_flow": null,
            "grid_area": null,
            "grid_template_columns": null,
            "flex": null,
            "_model_name": "LayoutModel",
            "justify_items": null,
            "grid_row": null,
            "max_height": null,
            "align_content": null,
            "visibility": null,
            "align_self": null,
            "height": null,
            "min_height": null,
            "padding": null,
            "grid_auto_rows": null,
            "grid_gap": null,
            "max_width": null,
            "order": null,
            "_view_module_version": "1.2.0",
            "grid_template_areas": null,
            "object_position": null,
            "object_fit": null,
            "grid_auto_columns": null,
            "margin": null,
            "display": null,
            "left": null
          }
        }
      }
    }
  },
  "cells": [
    {
      "cell_type": "markdown",
      "metadata": {
        "id": "view-in-github",
        "colab_type": "text"
      },
      "source": [
        "<a href=\"https://colab.research.google.com/github/moodlep/vae_playground/blob/main/colab_notebooks/autoencoder.ipynb\" target=\"_parent\"><img src=\"https://colab.research.google.com/assets/colab-badge.svg\" alt=\"Open In Colab\"/></a>"
      ]
    },
    {
      "cell_type": "markdown",
      "source": [
        "# Get fashion MNIST from PyTorch"
      ],
      "metadata": {
        "id": "qfDX9Wjrobf6"
      }
    },
    {
      "cell_type": "markdown",
      "source": [
        "https://pytorch.org/tutorials/beginner/basics/data_tutorial.html"
      ],
      "metadata": {
        "id": "POIL43RKwgz3"
      }
    },
    {
      "cell_type": "code",
      "execution_count": 1,
      "metadata": {
        "colab": {
          "base_uri": "https://localhost:8080/",
          "height": 450,
          "referenced_widgets": [
            "46691396abfc458bb71b65563f5cd816",
            "6af22d831b8047bf971c407724dded19",
            "bc07462c7d9b408d865bf1609ae69937",
            "c2553b15cfc5484e84e1d76983a678d9",
            "e6f81934e6d14caea25c570f57c1eea7",
            "45f056394f2b4aa1be130f8cdad73e6f",
            "c456930eb1924d1f8b96eca620d8bf03",
            "fb3ef00556b84e42ae7d3b59b6ce1ea3",
            "660cee1c30c94027a6aa024b00f00c87",
            "814f27adf2e6486f98606af34c1bf2f5",
            "3ef8af9d5ba14fa6811aa6593bf8d934",
            "2d942018f5784b9ba69d97bceab589c3",
            "567032bb30ee4b1fb4dbdadbb0d27f87",
            "a104164ab15546debe671267dadaefe6",
            "157f8a01a5774fc3a43dab87ba974d40",
            "07237ae68a444c1cb3d60e256a43a6b8",
            "48ecf1ff83b741b3934274b2e3cf5934",
            "c88de3a9b92c4d3ea8e7933ba4d7c55d",
            "e00ceaa639a845e89e0441ddc9ee55fc",
            "a9c1e7446a96413691a0f463ade7ae2d",
            "df1145c7c77d454e9cbc2ea3518f101e",
            "753a3e2e8df544919406a7f2c0eb8663",
            "607f719762174013a22912cb50fc4d54",
            "679853576a914266b148e13e8620fcf5",
            "c562f40eb78a4236b281fe6d872e277f",
            "85e5967bf9074f2ea8d43f76c57c1e2b",
            "bab639147040493f924d87e25cb6fbb9",
            "490ffe7208bc4194b6d364de5dc0b5d4",
            "af4f31516c7e414d8f28c0605e35a2a1",
            "89b71d307b8b4f38ba6a98e9620af943",
            "5b414772cc3944298a1e47d9198df3d3",
            "0f9d9db6496e4ea8abfdf3224023ae90",
            "a18812810ec243689979a3f2f9382809",
            "be68364a85db43f9bc8c3b2fd4efa1ed",
            "1622b485c9184eb7a9c8c845ffc481a7",
            "c2f54b41b1e44bc29dde51bf5c81488a",
            "f815a07e3a3643e48b6ae47125f59895",
            "75c858d9435148ee8606b0c8f04fe05e",
            "b4960cffcd8443248be749c3e3fc2db6",
            "9fc11794dad043d387c52e2a254e7326",
            "56d45d0971c9489bb517d4ee897c6b61",
            "0a61cf4fdd9947c598364717792028eb",
            "a7a227813064467d9faf7128e0cda1b6",
            "6e9b940c92064dd49056b3f288413fc4"
          ]
        },
        "id": "zxmcZn6PwGEj",
        "outputId": "2b4c0ea9-3253-4350-fef3-3b2a561479ce"
      },
      "outputs": [
        {
          "output_type": "stream",
          "name": "stdout",
          "text": [
            "Downloading http://fashion-mnist.s3-website.eu-central-1.amazonaws.com/train-images-idx3-ubyte.gz\n",
            "Downloading http://fashion-mnist.s3-website.eu-central-1.amazonaws.com/train-images-idx3-ubyte.gz to data/FashionMNIST/raw/train-images-idx3-ubyte.gz\n"
          ]
        },
        {
          "output_type": "display_data",
          "data": {
            "application/vnd.jupyter.widget-view+json": {
              "model_id": "46691396abfc458bb71b65563f5cd816",
              "version_minor": 0,
              "version_major": 2
            },
            "text/plain": [
              "  0%|          | 0/26421880 [00:00<?, ?it/s]"
            ]
          },
          "metadata": {}
        },
        {
          "output_type": "stream",
          "name": "stdout",
          "text": [
            "Extracting data/FashionMNIST/raw/train-images-idx3-ubyte.gz to data/FashionMNIST/raw\n",
            "\n",
            "Downloading http://fashion-mnist.s3-website.eu-central-1.amazonaws.com/train-labels-idx1-ubyte.gz\n",
            "Downloading http://fashion-mnist.s3-website.eu-central-1.amazonaws.com/train-labels-idx1-ubyte.gz to data/FashionMNIST/raw/train-labels-idx1-ubyte.gz\n"
          ]
        },
        {
          "output_type": "display_data",
          "data": {
            "application/vnd.jupyter.widget-view+json": {
              "model_id": "2d942018f5784b9ba69d97bceab589c3",
              "version_minor": 0,
              "version_major": 2
            },
            "text/plain": [
              "  0%|          | 0/29515 [00:00<?, ?it/s]"
            ]
          },
          "metadata": {}
        },
        {
          "output_type": "stream",
          "name": "stdout",
          "text": [
            "Extracting data/FashionMNIST/raw/train-labels-idx1-ubyte.gz to data/FashionMNIST/raw\n",
            "\n",
            "Downloading http://fashion-mnist.s3-website.eu-central-1.amazonaws.com/t10k-images-idx3-ubyte.gz\n",
            "Downloading http://fashion-mnist.s3-website.eu-central-1.amazonaws.com/t10k-images-idx3-ubyte.gz to data/FashionMNIST/raw/t10k-images-idx3-ubyte.gz\n"
          ]
        },
        {
          "output_type": "display_data",
          "data": {
            "application/vnd.jupyter.widget-view+json": {
              "model_id": "607f719762174013a22912cb50fc4d54",
              "version_minor": 0,
              "version_major": 2
            },
            "text/plain": [
              "  0%|          | 0/4422102 [00:00<?, ?it/s]"
            ]
          },
          "metadata": {}
        },
        {
          "output_type": "stream",
          "name": "stdout",
          "text": [
            "Extracting data/FashionMNIST/raw/t10k-images-idx3-ubyte.gz to data/FashionMNIST/raw\n",
            "\n",
            "Downloading http://fashion-mnist.s3-website.eu-central-1.amazonaws.com/t10k-labels-idx1-ubyte.gz\n",
            "Downloading http://fashion-mnist.s3-website.eu-central-1.amazonaws.com/t10k-labels-idx1-ubyte.gz to data/FashionMNIST/raw/t10k-labels-idx1-ubyte.gz\n"
          ]
        },
        {
          "output_type": "display_data",
          "data": {
            "application/vnd.jupyter.widget-view+json": {
              "model_id": "be68364a85db43f9bc8c3b2fd4efa1ed",
              "version_minor": 0,
              "version_major": 2
            },
            "text/plain": [
              "  0%|          | 0/5148 [00:00<?, ?it/s]"
            ]
          },
          "metadata": {}
        },
        {
          "output_type": "stream",
          "name": "stdout",
          "text": [
            "Extracting data/FashionMNIST/raw/t10k-labels-idx1-ubyte.gz to data/FashionMNIST/raw\n",
            "\n"
          ]
        }
      ],
      "source": [
        "import torch\n",
        "from torch import nn\n",
        "from torch.utils.data import DataLoader\n",
        "from torchvision import datasets\n",
        "from torchvision.transforms import ToTensor, Lambda\n",
        "\n",
        "training_data = datasets.FashionMNIST(\n",
        "    root=\"data\",\n",
        "    train=True,\n",
        "    download=True,\n",
        "    transform=ToTensor()\n",
        ")\n",
        "\n",
        "test_data = datasets.FashionMNIST(\n",
        "    root=\"data\",\n",
        "    train=False,\n",
        "    download=True,\n",
        "    transform=ToTensor()\n",
        ")\n",
        "\n",
        "train_dataloader = DataLoader(training_data, batch_size=64)\n",
        "test_dataloader = DataLoader(test_data, batch_size=64)"
      ]
    },
    {
      "cell_type": "code",
      "source": [
        "import matplotlib.pyplot as plt\n",
        "\n",
        "labels_map = {\n",
        "    0: \"T-Shirt\",\n",
        "    1: \"Trouser\",\n",
        "    2: \"Pullover\",\n",
        "    3: \"Dress\",\n",
        "    4: \"Coat\",\n",
        "    5: \"Sandal\",\n",
        "    6: \"Shirt\",\n",
        "    7: \"Sneaker\",\n",
        "    8: \"Bag\",\n",
        "    9: \"Ankle Boot\",\n",
        "}\n",
        "figure = plt.figure(figsize=(8, 8))\n",
        "cols, rows = 3, 3\n",
        "for i in range(1, cols * rows + 1):\n",
        "    sample_idx = torch.randint(len(training_data), size=(1,)).item()\n",
        "    img, label = training_data[sample_idx]\n",
        "    figure.add_subplot(rows, cols, i)\n",
        "    plt.title(labels_map[label])\n",
        "    plt.axis(\"off\")\n",
        "    plt.imshow(img.squeeze(), cmap=\"gray\")\n",
        "plt.show()"
      ],
      "metadata": {
        "colab": {
          "base_uri": "https://localhost:8080/",
          "height": 482
        },
        "id": "qAGYweVjweH7",
        "outputId": "f64d2991-2cdc-495a-bd48-a0cd3a468c2b"
      },
      "execution_count": 2,
      "outputs": [
        {
          "output_type": "display_data",
          "data": {
            "image/png": "[encoded data removed]",
            "text/plain": [
              "<Figure size 576x576 with 9 Axes>"
            ]
          },
          "metadata": {
            "needs_background": "light"
          }
        }
      ]
    },
    {
      "cell_type": "code",
      "source": [
        "training_data[0][0].shape, training_data.data.shape"
      ],
      "metadata": {
        "colab": {
          "base_uri": "https://localhost:8080/"
        },
        "id": "Rk7ZLDmhxUg_",
        "outputId": "4e6104c1-2da2-41bc-d86d-7e39db70fdaa"
      },
      "execution_count": 62,
      "outputs": [
        {
          "output_type": "execute_result",
          "data": {
            "text/plain": [
              "(torch.Size([1, 28, 28]), torch.Size([60000, 28, 28]))"
            ]
          },
          "metadata": {},
          "execution_count": 62
        }
      ]
    },
    {
      "cell_type": "code",
      "source": [
        "plt.imshow(training_data.data[0])\n",
        "plt.show()"
      ],
      "metadata": {
        "colab": {
          "base_uri": "https://localhost:8080/",
          "height": 265
        },
        "id": "U4puJHuXxoxD",
        "outputId": "a9468033-6540-4cad-fcc4-507e5fdb1b68"
      },
      "execution_count": 63,
      "outputs": [
        {
          "output_type": "display_data",
          "data": {
            "image/png": "[encoded data removed]",
            "text/plain": [
              "<Figure size 432x288 with 1 Axes>"
            ]
          },
          "metadata": {
            "needs_background": "light"
          }
        }
      ]
    },
    {
      "cell_type": "code",
      "source": [
        "normalize = transforms.Normalize(mean=[0.485, 0.456, 0.406],\n",
        "                                 std=[0.229, 0.224, 0.225])"
      ],
      "metadata": {
        "colab": {
          "base_uri": "https://localhost:8080/",
          "height": 187
        },
        "id": "XSByf0w6295e",
        "outputId": "ccd37243-5243-4385-b0bd-74a9dab401e9"
      },
      "execution_count": 88,
      "outputs": [
        {
          "output_type": "error",
          "ename": "NameError",
          "evalue": "ignored",
          "traceback": [
            "\u001b[0;31m---------------------------------------------------------------------------\u001b[0m",
            "\u001b[0;31mNameError\u001b[0m                                 Traceback (most recent call last)",
            "\u001b[0;32m<ipython-input-88-c63d5cda2483>\u001b[0m in \u001b[0;36m<module>\u001b[0;34m()\u001b[0m\n\u001b[0;32m----> 1\u001b[0;31m normalize = transforms.Normalize(mean=[0.485, 0.456, 0.406],\n\u001b[0m\u001b[1;32m      2\u001b[0m                                  std=[0.229, 0.224, 0.225])\n",
            "\u001b[0;31mNameError\u001b[0m: name 'transforms' is not defined"
          ]
        }
      ]
    },
    {
      "cell_type": "code",
      "source": [
        "img = training_data.data[0]\n",
        "img.float().sigmoid()\n",
        "plt.imshow(training_data.data[0].float().sigmoid())\n",
        "plt.show()"
      ],
      "metadata": {
        "colab": {
          "base_uri": "https://localhost:8080/",
          "height": 265
        },
        "id": "zp3nRuEPlC09",
        "outputId": "d3d6b667-32a5-47c6-ff27-98008a971a6c"
      },
      "execution_count": 8,
      "outputs": [
        {
          "output_type": "display_data",
          "data": {
            "image/png": "[encoded data removed]",
            "text/plain": [
              "<Figure size 432x288 with 1 Axes>"
            ]
          },
          "metadata": {
            "needs_background": "light"
          }
        }
      ]
    },
    {
      "cell_type": "markdown",
      "source": [
        "# AE code: \n",
        "\n",
        "Implement basic barebones autoencoder https://lilianweng.github.io/lil-log/2018/08/12/from-autoencoder-to-beta-vae.html\n",
        "\n",
        "$$\n",
        "\\mathbf{x}^{\\prime}=f_{\\theta}\\left(g_{\\phi}(\\mathbf{x})\\right)\n",
        "$$\n",
        "\n",
        "$$\n",
        "L_{\\mathrm{AE}}(\\theta, \\phi)=\\frac{1}{n} \\sum_{i=1}^{n}\\left(\\mathbf{x}^{(i)}-f_{\\theta}\\left(g_{\\phi}\\left(\\mathbf{x}^{(i)}\\right)\\right)\\right)^{2}\n",
        "$$"
      ],
      "metadata": {
        "id": "OTs-YILnDYyd"
      }
    },
    {
      "cell_type": "code",
      "source": [
        "import torch.nn as nn"
      ],
      "metadata": {
        "id": "iN3Pd3qBwxFW"
      },
      "execution_count": 1,
      "outputs": []
    },
    {
      "cell_type": "code",
      "source": [
        "class Autoencoder(nn.Module):\n",
        "\n",
        "  def __init__(self, dims, activation_fnc = nn.ReLU()):\n",
        "\n",
        "    super(Autoencoder, self).__init__()\n",
        "    # dims = [input_dim, hidden_dim, encoded_dim]\n",
        "\n",
        "    # Encoder g(x) -> x_hat\n",
        "    self.encoder = nn.Sequential(\n",
        "        nn.Linear(dims[0], dims[1]),\n",
        "        activation_fnc,\n",
        "        nn.Linear(dims[1], dims[1]),\n",
        "        activation_fnc,\n",
        "        nn.Linear(dims[1], dims[2])\n",
        "    )\n",
        "\n",
        "    self.decoder = nn.Sequential(\n",
        "        nn.Linear(dims[2], dims[1]),\n",
        "        activation_fnc,\n",
        "        nn.Linear(dims[1], dims[1]),\n",
        "        activation_fnc,\n",
        "        nn.Linear(dims[1], dims[0])\n",
        "    )\n",
        "\n",
        "  def forward(self, input):\n",
        "    x_hat = self.encoder(input)\n",
        "    x = self.decoder(x_hat)\n",
        "\n",
        "    return x"
      ],
      "metadata": {
        "id": "_Vr72D4Bw8Da"
      },
      "execution_count": null,
      "outputs": []
    },
    {
      "cell_type": "code",
      "source": [
        "def eval():\n",
        "  # Lazy eval: let's see how the first test image progresses\n",
        "  with torch.no_grad():\n",
        "    output = ae(test_data.data[0].view(-1).unsqueeze(0).float())\n",
        "    plt.imshow(output.reshape(28,28))\n",
        "    plt.show()  "
      ],
      "metadata": {
        "id": "RLPhgXYmMWDw"
      },
      "execution_count": null,
      "outputs": []
    },
    {
      "cell_type": "code",
      "source": [
        "config = {\n",
        "    'epochs': 10,\n",
        "    'eval_progression': False, # call eval during training\n",
        "    'eval_steps': 100,\n",
        "    'eval_epoch': True  # call eval after each epoch\n",
        "}"
      ],
      "metadata": {
        "id": "NkTk6m4imvFs"
      },
      "execution_count": null,
      "outputs": []
    },
    {
      "cell_type": "code",
      "source": [
        "bs = 64 # batch size\n",
        "ae = Autoencoder([784, 256, 4])\n",
        "\n",
        "optimiser = torch.optim.Adam(ae.parameters(), lr=2.5e-4)\n",
        "losses = []\n",
        "for epoch in range(config['epochs']):\n",
        "\n",
        "  # Sample batches in loop\n",
        "  for i, batch in enumerate(iter(train_dataloader)):\n",
        "    images = batch[0].view(batch[0].shape[0], -1)\n",
        "\n",
        "    # forward pass\n",
        "    predictions = ae(images)\n",
        "\n",
        "    loss = ((images-predictions)**2).sum(-1).mean()\n",
        "\n",
        "    optimiser.zero_grad()\n",
        "    loss.backward()\n",
        "    optimiser.step()\n",
        "\n",
        "    # print(epoch, loss.item())\n",
        "    losses.append(loss.item())\n",
        "\n",
        "    if config['eval_progression']:\n",
        "      if i % config['eval_steps'] == 0:\n",
        "        eval()\n",
        "\n",
        "  if config['eval_epoch']:\n",
        "    eval()\n"
      ],
      "metadata": {
        "id": "rSzDC3x_zfw7"
      },
      "execution_count": null,
      "outputs": []
    },
    {
      "cell_type": "code",
      "source": [
        "test_data.data[0].shape, test_data.data[0].view(-1).unsqueeze(0).shape"
      ],
      "metadata": {
        "colab": {
          "base_uri": "https://localhost:8080/"
        },
        "id": "bIDISrA84KVT",
        "outputId": "48e66ff8-f92e-46b5-cab2-7b88f7ac0870"
      },
      "execution_count": null,
      "outputs": [
        {
          "output_type": "execute_result",
          "data": {
            "text/plain": [
              "(torch.Size([28, 28]), torch.Size([1, 784]))"
            ]
          },
          "metadata": {},
          "execution_count": 10
        }
      ]
    },
    {
      "cell_type": "code",
      "source": [
        "plt.imshow(test_data.data[0])\n",
        "plt.show()"
      ],
      "metadata": {
        "colab": {
          "base_uri": "https://localhost:8080/",
          "height": 265
        },
        "id": "M4V-Xp88C7OX",
        "outputId": "5ad09c6f-d34a-4ba2-f6d3-dfadc8d4dce6"
      },
      "execution_count": null,
      "outputs": [
        {
          "output_type": "display_data",
          "data": {
            "image/png": "[encoded data removed]",
            "text/plain": [
              "<Figure size 432x288 with 1 Axes>"
            ]
          },
          "metadata": {
            "needs_background": "light"
          }
        }
      ]
    },
    {
      "cell_type": "code",
      "source": [
        "eval()"
      ],
      "metadata": {
        "colab": {
          "base_uri": "https://localhost:8080/",
          "height": 265
        },
        "id": "8EvM_kq1DEIF",
        "outputId": "efb57d2e-61ff-4322-da36-c3fc5db2c5ae"
      },
      "execution_count": null,
      "outputs": [
        {
          "output_type": "display_data",
          "data": {
            "image/png": "[encoded data removed]",
            "text/plain": [
              "<Figure size 432x288 with 1 Axes>"
            ]
          },
          "metadata": {
            "needs_background": "light"
          }
        }
      ]
    },
    {
      "cell_type": "markdown",
      "source": [
        "## latent layer"
      ],
      "metadata": {
        "id": "vpiazvM_DbBu"
      }
    },
    {
      "cell_type": "code",
      "source": [
        "ae.encoder(test_data.data[0])"
      ],
      "metadata": {
        "id": "m5wf2HhgDd8s"
      },
      "execution_count": null,
      "outputs": []
    },
    {
      "cell_type": "markdown",
      "source": [
        "# Alternative code using conv nets\n",
        "\n",
        "(Src: https://ai.plainenglish.io/denoising-autoencoder-in-pytorch-on-mnist-dataset-a76b8824e57e)\n",
        "\n",
        "Tried the code from this blog to see how much better a conv net performs and also to try the denoising aspect. \n",
        "\n",
        "Found bug in loss function... MSE (decoded output, noise_input)\n"
      ],
      "metadata": {
        "id": "C3gspBlz36bn"
      }
    },
    {
      "cell_type": "markdown",
      "source": [
        "As per lillog blog, the loss is between the decoded output and the original (not noisy) input! \n",
        "\n",
        "$$\n",
        "\\tilde{\\mathbf{X}}^{(i)} \\sim \\mathcal{M}_{\\mathcal{D}}\\left(\\tilde{\\mathbf{x}}^{(i)} \\mid \\mathbf{x}^{(i)}\\right)\n",
        "$$\n",
        "\n",
        "$$\n",
        "L_{\\mathrm{DAE}}(\\theta, \\phi)=\\frac{1}{n} \\sum_{i=1}^{n}\\left(\\mathbf{x}^{(i)}-f_{\\theta}\\left(g_{\\phi}\\left(\\tilde{\\mathbf{x}}^{(i)}\\right)\\right)\\right)^{2}\n",
        "$$"
      ],
      "metadata": {
        "id": "qQwvxZAo9z0b"
      }
    },
    {
      "cell_type": "code",
      "source": [
        "class Encoder(nn.Module):\n",
        "    \n",
        "    def __init__(self, encoded_space_dim,fc2_input_dim):\n",
        "        super().__init__()\n",
        "        \n",
        "        ### Convolutional section\n",
        "        self.encoder_cnn = nn.Sequential(\n",
        "            # First convolutional layer\n",
        "            nn.Conv2d(1, 8, 3, stride=2, padding=1),\n",
        "            #nn.BatchNorm2d(8),\n",
        "            nn.ReLU(True),\n",
        "            # Second convolutional layer\n",
        "            nn.Conv2d(8, 16, 3, stride=2, padding=1),\n",
        "            nn.BatchNorm2d(16),\n",
        "            nn.ReLU(True),\n",
        "            # Third convolutional layer\n",
        "            nn.Conv2d(16, 32, 3, stride=2, padding=0),\n",
        "            #nn.BatchNorm2d(32),\n",
        "            nn.ReLU(True)\n",
        "        )\n",
        "        \n",
        "        ### Flatten layer\n",
        "        self.flatten = nn.Flatten(start_dim=1)\n",
        "\n",
        "        ### Linear section\n",
        "        self.encoder_lin = nn.Sequential(\n",
        "            # First linear layer\n",
        "            nn.Linear(3 * 3 * 32, 128),\n",
        "            nn.ReLU(True),\n",
        "            # Second linear layer\n",
        "            nn.Linear(128, encoded_space_dim)\n",
        "        )\n",
        "        \n",
        "    def forward(self, x):\n",
        "        # Apply convolutions\n",
        "        x = self.encoder_cnn(x)\n",
        "        # Flatten\n",
        "        x = self.flatten(x)\n",
        "        # # Apply linear layers\n",
        "        x = self.encoder_lin(x)\n",
        "        return x"
      ],
      "metadata": {
        "id": "1UY71IwW3-XO"
      },
      "execution_count": null,
      "outputs": []
    },
    {
      "cell_type": "code",
      "source": [
        "class Decoder(nn.Module):\n",
        "    \n",
        "    def __init__(self, encoded_space_dim,fc2_input_dim):\n",
        "        super().__init__()\n",
        "\n",
        "        ### Linear section\n",
        "        self.decoder_lin = nn.Sequential(\n",
        "            # First linear layer\n",
        "            nn.Linear(encoded_space_dim, 128),\n",
        "            nn.ReLU(True),\n",
        "            # Second linear layer\n",
        "            nn.Linear(128, 3 * 3 * 32),\n",
        "            nn.ReLU(True)\n",
        "        )\n",
        "\n",
        "        ### Unflatten\n",
        "        self.unflatten = nn.Unflatten(dim=1, unflattened_size=(32, 3, 3))\n",
        "\n",
        "        ### Convolutional section\n",
        "        self.decoder_conv = nn.Sequential(\n",
        "            # First transposed convolution\n",
        "            nn.ConvTranspose2d(32, 16, 3, stride=2, output_padding=0),\n",
        "            nn.BatchNorm2d(16),\n",
        "            nn.ReLU(True),\n",
        "            # Second transposed convolution\n",
        "            nn.ConvTranspose2d(16, 8, 3, stride=2, padding=1, output_padding=1),\n",
        "            nn.BatchNorm2d(8),\n",
        "            nn.ReLU(True),\n",
        "            # Third transposed convolution\n",
        "            nn.ConvTranspose2d(8, 1, 3, stride=2, padding=1, output_padding=1)\n",
        "        )\n",
        "        \n",
        "    def forward(self, x):\n",
        "        # Apply linear layers\n",
        "        x = self.decoder_lin(x)\n",
        "        # Unflatten\n",
        "        x = self.unflatten(x)\n",
        "        # Apply transposed convolutions\n",
        "        x = self.decoder_conv(x)\n",
        "        # Apply a sigmoid to force the output to be between 0 and 1 (valid pixel values)\n",
        "        x = torch.sigmoid(x)\n",
        "        return x"
      ],
      "metadata": {
        "id": "9IGoRwGS4NaL"
      },
      "execution_count": null,
      "outputs": []
    },
    {
      "cell_type": "code",
      "source": [
        "def add_noise(inputs,noise_factor=0.3):\n",
        "     noise = inputs+torch.randn_like(inputs)*noise_factor\n",
        "     noise = torch.clip(noise,0.,1.)\n",
        "     return noise"
      ],
      "metadata": {
        "id": "ueFU3drl9VMU"
      },
      "execution_count": null,
      "outputs": []
    },
    {
      "cell_type": "code",
      "source": [
        "### Set the random seed for reproducible results\n",
        "torch.manual_seed(0)\n",
        "\n",
        "### Initialize the two networks\n",
        "d = 4\n",
        "\n",
        "encoder = Encoder(encoded_space_dim=d,fc2_input_dim=128)\n",
        "decoder = Decoder(encoded_space_dim=d,fc2_input_dim=128)\n"
      ],
      "metadata": {
        "id": "z319QOVA4RdG"
      },
      "execution_count": null,
      "outputs": []
    },
    {
      "cell_type": "code",
      "source": [
        "### Define the loss function\n",
        "loss_fn = torch.nn.MSELoss()\n",
        "\n",
        "### Define an optimizer (both for the encoder and the decoder!)\n",
        "lr= 0.001 # Learning rate\n",
        "\n",
        "\n",
        "params_to_optimize = [\n",
        "    {'params': encoder.parameters()},\n",
        "    {'params': decoder.parameters()}\n",
        "]\n",
        "\n",
        "device = torch.device(\"cuda\") if torch.cuda.is_available() else torch.device(\"cpu\")\n",
        "print(f'Selected device: {device}')\n",
        "\n",
        "optim = torch.optim.Adam(params_to_optimize, lr=lr)\n",
        "\n",
        "# Move both the encoder and the decoder to the selected device\n",
        "encoder.to(device)\n",
        "decoder.to(device)"
      ],
      "metadata": {
        "id": "7Mjl1-DB4UPe"
      },
      "execution_count": null,
      "outputs": []
    },
    {
      "cell_type": "markdown",
      "source": [
        "## With noise"
      ],
      "metadata": {
        "id": "EP-7OSLvBEtX"
      }
    },
    {
      "cell_type": "code",
      "source": [
        "def train_epoch_den(encoder, decoder, device, dataloader, loss_fn, optimizer,noise_factor=0.3):\n",
        "    # Set train mode for both the encoder and the decoder\n",
        "    encoder.train()\n",
        "    decoder.train()\n",
        "    train_loss = []\n",
        "    for image_batch, _ in dataloader: # with \"_\" we just ignore the labels (the second element of the dataloader tuple)\n",
        "        image_noisy = add_noise(image_batch,noise_factor)\n",
        "        image_noisy = image_noisy.to(device)    \n",
        "\n",
        "        encoded_data = encoder(image_noisy)\n",
        "        decoded_data = decoder(encoded_data)\n",
        "\n",
        "        loss = loss_fn(decoded_data, image_batch)  # corrected loss\n",
        "        optimizer.zero_grad()\n",
        "        loss.backward()\n",
        "        optimizer.step()\n",
        "        train_loss.append(loss.item())\n",
        "\n",
        "    return torch.sum(torch.tensor(train_loss)).mean()\n"
      ],
      "metadata": {
        "id": "Raij61vi4pxy"
      },
      "execution_count": null,
      "outputs": []
    },
    {
      "cell_type": "markdown",
      "source": [
        "## Without noise"
      ],
      "metadata": {
        "id": "d3cDnY_uBIDI"
      }
    },
    {
      "cell_type": "code",
      "source": [
        "def train_epoch_den(encoder, decoder, device, dataloader, loss_fn, optimizer,noise_factor=0.3):\n",
        "    # Set train mode for both the encoder and the decoder\n",
        "    encoder.train()\n",
        "    decoder.train()\n",
        "    train_loss = []\n",
        "    for image_batch, _ in dataloader: \n",
        "        encoded_data = encoder(image_batch.to(device))\n",
        "        decoded_data = decoder(encoded_data)\n",
        "        loss = loss_fn(decoded_data, image_batch)\n",
        "        optimizer.zero_grad()\n",
        "        loss.backward()\n",
        "        optimizer.step()\n",
        "        train_loss.append(loss.item())\n",
        "\n",
        "    return torch.sum(torch.tensor(train_loss)).mean()"
      ],
      "metadata": {
        "id": "9Q4N7OkvBIDI"
      },
      "execution_count": null,
      "outputs": []
    },
    {
      "cell_type": "markdown",
      "source": [
        "## Train"
      ],
      "metadata": {
        "id": "TiVCaSwsBKgT"
      }
    },
    {
      "cell_type": "code",
      "source": [
        "### Training cycle\n",
        "noise_factor = 0.3\n",
        "num_epochs = 10\n",
        "history_da={'train_loss':[],'val_loss':[]}\n",
        "\n",
        "for epoch in range(num_epochs):\n",
        "    print('EPOCH %d/%d' % (epoch + 1, num_epochs))\n",
        "    ### Training (use the training function)\n",
        "    train_loss=train_epoch_den(\n",
        "        encoder=encoder, \n",
        "        decoder=decoder, \n",
        "        device=device, \n",
        "        dataloader=train_dataloader, \n",
        "        loss_fn=loss_fn, \n",
        "        optimizer=optim,noise_factor=noise_factor)\n",
        "    # ### Validation  (use the testing function)\n",
        "    # val_loss = test_epoch_den(\n",
        "    #     encoder=encoder, \n",
        "    #     decoder=decoder, \n",
        "    #     device=device, \n",
        "    #     dataloader=valid_loader, \n",
        "    #     loss_fn=loss_fn,noise_factor=noise_factor)\n",
        "    # Print Validationloss\n",
        "    # history_da['train_loss'].append(train_loss)\n",
        "    # history_da['val_loss'].append(val_loss)\n",
        "    print('\\n EPOCH {}/{} \\t train loss {:.3f} \\t val loss {:.3f}'.format(epoch + 1, num_epochs,train_loss,0))\n",
        "    # plot_ae_outputs_den(encoder,decoder,noise_factor=noise_factor)"
      ],
      "metadata": {
        "colab": {
          "base_uri": "https://localhost:8080/"
        },
        "id": "ESBpzQ685W5w",
        "outputId": "b3c35475-4999-4143-98db-4be284b17c7b"
      },
      "execution_count": null,
      "outputs": [
        {
          "output_type": "stream",
          "name": "stdout",
          "text": [
            "EPOCH 1/10\n",
            "\n",
            " EPOCH 1/10 \t train loss 17.404 \t val loss 0.000\n",
            "EPOCH 2/10\n",
            "\n",
            " EPOCH 2/10 \t train loss 17.330 \t val loss 0.000\n",
            "EPOCH 3/10\n",
            "\n",
            " EPOCH 3/10 \t train loss 17.273 \t val loss 0.000\n",
            "EPOCH 4/10\n",
            "\n",
            " EPOCH 4/10 \t train loss 17.222 \t val loss 0.000\n",
            "EPOCH 5/10\n",
            "\n",
            " EPOCH 5/10 \t train loss 17.176 \t val loss 0.000\n",
            "EPOCH 6/10\n",
            "\n",
            " EPOCH 6/10 \t train loss 17.137 \t val loss 0.000\n",
            "EPOCH 7/10\n",
            "\n",
            " EPOCH 7/10 \t train loss 17.099 \t val loss 0.000\n",
            "EPOCH 8/10\n",
            "\n",
            " EPOCH 8/10 \t train loss 17.063 \t val loss 0.000\n",
            "EPOCH 9/10\n",
            "\n",
            " EPOCH 9/10 \t train loss 17.030 \t val loss 0.000\n",
            "EPOCH 10/10\n",
            "\n",
            " EPOCH 10/10 \t train loss 16.998 \t val loss 0.000\n"
          ]
        }
      ]
    },
    {
      "cell_type": "code",
      "source": [
        "# no noise version \n",
        "with torch.no_grad():  \n",
        "  img = test_data[i][0].unsqueeze(0)\n",
        "  output = decoder(encoder(img))\n",
        "\n",
        "  plt.imshow(output.squeeze().numpy())\n",
        "  plt.show()  "
      ],
      "metadata": {
        "colab": {
          "base_uri": "https://localhost:8080/",
          "height": 265
        },
        "id": "scSpihmEBxW6",
        "outputId": "265dc8aa-879e-4445-f024-ca799396bcd1"
      },
      "execution_count": null,
      "outputs": [
        {
          "output_type": "display_data",
          "data": {
            "image/png": "[encoded data removed]",
            "text/plain": [
              "<Figure size 432x288 with 1 Axes>"
            ]
          },
          "metadata": {
            "needs_background": "light"
          }
        }
      ]
    },
    {
      "cell_type": "code",
      "source": [
        "# noisy with corrected loss function\n",
        "with torch.no_grad():  \n",
        "  img = test_data[i][0].unsqueeze(0)\n",
        "  output = decoder(encoder(img))\n",
        "\n",
        "  plt.imshow(output.squeeze().numpy())\n",
        "  plt.show()  "
      ],
      "metadata": {
        "colab": {
          "base_uri": "https://localhost:8080/",
          "height": 265
        },
        "id": "xbhIcRJb-nB0",
        "outputId": "3ebe4839-eb19-49d9-a822-8883f91ef19b"
      },
      "execution_count": null,
      "outputs": [
        {
          "output_type": "display_data",
          "data": {
            "image/png": "[encoded data removed]",
            "text/plain": [
              "<Figure size 432x288 with 1 Axes>"
            ]
          },
          "metadata": {
            "needs_background": "light"
          }
        }
      ]
    },
    {
      "cell_type": "code",
      "source": [
        "# noisy with original loss function\n",
        "with torch.no_grad(): \n",
        "  img = test_data[i][0].unsqueeze(0)\n",
        "  output = decoder(encoder(img))\n",
        "\n",
        "  plt.imshow(output.squeeze().numpy())\n",
        "  plt.show()  "
      ],
      "metadata": {
        "colab": {
          "base_uri": "https://localhost:8080/",
          "height": 265
        },
        "id": "4ovt9xmf5zRC",
        "outputId": "3559ef7b-0110-49bb-b0c3-4b5bb4438d9d"
      },
      "execution_count": null,
      "outputs": [
        {
          "output_type": "display_data",
          "data": {
            "image/png": "[encoded data removed]",
            "text/plain": [
              "<Figure size 432x288 with 1 Axes>"
            ]
          },
          "metadata": {
            "needs_background": "light"
          }
        }
      ]
    },
    {
      "cell_type": "markdown",
      "source": [
        "# VAE\n",
        "\n",
        "$$\n",
        "L_{\\mathrm{VAE}}(\\theta, \\phi)=-\\log p_{\\theta}(\\mathbf{x})+D_{\\mathrm{KL}}\\left(q_{\\phi}(\\mathbf{z} \\mid \\mathbf{x}) \\| p_{\\theta}(\\mathbf{z} \\mid \\mathbf{x})\\right)\n",
        "$$\n",
        "$$\n",
        "=-\\mathbb{E}_{\\mathbf{z} \\sim q_{\\phi}(\\mathbf{z} \\mid \\mathbf{x})} \\log p_{\\theta}(\\mathbf{x} \\mid \\mathbf{z})+D_{\\mathrm{KL}}\\left(q_{\\phi}(\\mathbf{z} \\mid \\mathbf{x}) \\| p_{\\theta}(\\mathbf{z})\\right)\n",
        "$$\n",
        "\n",
        "p - decoder\n",
        "q - encoder\n",
        "z - latent"
      ],
      "metadata": {
        "id": "VuJRm9gKesor"
      }
    },
    {
      "cell_type": "code",
      "source": [
        "import torch\n",
        "import torch.nn as nn\n",
        "import torch.distributions as distributions"
      ],
      "metadata": {
        "id": "ZPacMIL_6Ybn"
      },
      "execution_count": 9,
      "outputs": []
    },
    {
      "cell_type": "code",
      "source": [
        "class VAE(nn.Module):\n",
        "\n",
        "  def __init__(self, dims, activation_fnc = nn.ReLU()):\n",
        "\n",
        "    super(VAE, self).__init__()\n",
        "    # dims = [input_dim, hidden_dim, encoded_dim]\n",
        "    self.dims = dims\n",
        "\n",
        "    # Encoder g(x) -> z_mu, z_std\n",
        "    self.encoder = nn.Sequential(\n",
        "        nn.Linear(dims[0], dims[1]),\n",
        "        activation_fnc,\n",
        "        nn.Linear(dims[1], dims[1]),\n",
        "        activation_fnc,\n",
        "        nn.Linear(dims[1], dims[2]) # network head splits here for mean and std for z \n",
        "    )\n",
        "\n",
        "    self.decoder = nn.Sequential(\n",
        "        nn.Linear(dims[2], dims[1]),\n",
        "        activation_fnc,\n",
        "        nn.Linear(dims[1], dims[1]),\n",
        "        activation_fnc,\n",
        "        nn.Linear(dims[1], dims[0]),\n",
        "        # nn.Sigmoid()\n",
        "    )\n",
        "\n",
        "  def forward(self, input):\n",
        "    means = self.encoder(input)  \n",
        "    stds = self.encoder(input)\n",
        "\n",
        "    # convert stds to cov_mat: \n",
        "    a = torch.eye(self.dims[2]).unsqueeze(0).expand((input.shape[0],self.dims[2],self.dims[2]))\n",
        "    b = stds.unsqueeze(-1).expand_as(a)\n",
        "    cov_mat = b*a\n",
        "\n",
        "    encoder_dist = torch.distributions.MultivariateNormal(means, cov_mat.abs())\n",
        "    z = encoder_dist.sample()\n",
        "    print(\"shape of z \", z.shape)\n",
        "\n",
        "    # decoder distribution is a Bernoulli that will gen 784 1's and 0's\n",
        "    decoder_output = self.decoder(z)\n",
        "    decoder_dist = torch.distributions.Bernoulli(logits = decoder_output)\n",
        "    # x_hat = decoder_dist.sample().reshape(-1,28,28)\n",
        "\n",
        "    # convert the inputs to 1's and 0's for the Bernoulli\n",
        "    transformed_input = torch.zeros_like(input)\n",
        "    torch.maximum(input, torch.zeros_like(input), out = transformed_input)\n",
        "\n",
        "    recon_loss = decoder_dist.log_prob(transformed_input.bool())\n",
        "\n",
        "    # KL Loss: \n",
        "    # Normal prior dist\n",
        "    prior = torch.distributions.MultivariateNormal(torch.zeros_like(means), torch.eye(self.dims[2]).unsqueeze(0).expand((input.shape[0],self.dims[2],self.dims[2])))\n",
        "    kl_loss = distributions.kl_divergence(encoder_dist, prior)\n",
        "\n",
        "    return recon_loss, kl_loss"
      ],
      "metadata": {
        "id": "qvA1HFe_iU4P"
      },
      "execution_count": 20,
      "outputs": []
    },
    {
      "cell_type": "code",
      "source": [
        "28*28"
      ],
      "metadata": {
        "colab": {
          "base_uri": "https://localhost:8080/"
        },
        "id": "2bsts74mtkew",
        "outputId": "44240fba-c337-476d-d108-a01f31c7a61e"
      },
      "execution_count": 53,
      "outputs": [
        {
          "output_type": "execute_result",
          "data": {
            "text/plain": [
              "784"
            ]
          },
          "metadata": {},
          "execution_count": 53
        }
      ]
    },
    {
      "cell_type": "markdown",
      "source": [
        "## Quick Test of Multivariate normal"
      ],
      "metadata": {
        "id": "4ToT6FHftkxu"
      }
    },
    {
      "cell_type": "code",
      "source": [
        "m = distributions.MultivariateNormal(torch.zeros(2), torch.eye(2))\n",
        "m.sample()"
      ],
      "metadata": {
        "colab": {
          "base_uri": "https://localhost:8080/"
        },
        "id": "AHaHbqq1kvBV",
        "outputId": "d4769d89-f040-40b2-d87d-198b2e0ce379"
      },
      "execution_count": 7,
      "outputs": [
        {
          "output_type": "execute_result",
          "data": {
            "text/plain": [
              "tensor([0.1029, 0.3221])"
            ]
          },
          "metadata": {},
          "execution_count": 7
        }
      ]
    },
    {
      "cell_type": "code",
      "source": [
        "batch_size = 10\n",
        "z_dims = 5\n",
        "\n",
        "# Generate a batch of means and stds\n",
        "means = torch.randn((10,5))\n",
        "stds = torch.randn((10,5))\n",
        "means, stds"
      ],
      "metadata": {
        "colab": {
          "base_uri": "https://localhost:8080/"
        },
        "id": "D2o5Rs75lFpj",
        "outputId": "8927b9ee-c3a6-4b00-da06-6852cc3b9f4f"
      },
      "execution_count": 21,
      "outputs": [
        {
          "output_type": "execute_result",
          "data": {
            "text/plain": [
              "(tensor([[-0.9037,  0.7639,  0.8674,  0.4277,  0.0614],\n",
              "         [-0.5178, -0.5380,  0.6384, -0.2140,  0.2417],\n",
              "         [-0.6731,  2.4680, -0.5663,  0.2197,  2.4935],\n",
              "         [-1.4279, -1.2434, -1.1396,  1.2729, -1.7595],\n",
              "         [-0.1917, -0.4983,  1.3450,  0.2562, -1.0695],\n",
              "         [ 1.0890,  3.2572,  1.1290,  0.7529, -2.2703],\n",
              "         [-0.5428, -0.3522,  0.7309, -2.6492,  0.6497],\n",
              "         [-1.3211, -0.3574,  0.1064, -1.6073,  0.9784],\n",
              "         [ 0.4691, -1.4178,  0.3760, -2.7406, -1.1650],\n",
              "         [-0.2949,  1.2758,  0.2219,  0.1453, -0.3440]]),\n",
              " tensor([[-0.0703,  1.3324,  0.1667, -0.1345,  0.4825],\n",
              "         [-1.0565, -1.2195, -0.5221,  1.3575, -0.7810],\n",
              "         [-1.2138, -0.3774,  0.9295, -1.3361,  0.6219],\n",
              "         [ 1.1528,  1.6248, -0.8355, -0.2293,  0.5784],\n",
              "         [-0.3850, -0.1346,  0.7041, -0.1657, -0.6971],\n",
              "         [-0.1377,  1.1324, -1.6671, -0.9383,  1.5566],\n",
              "         [-2.2511,  0.8499,  0.5088,  2.7578, -1.0534],\n",
              "         [-0.6930,  0.3100, -0.4274, -0.2898, -0.6237],\n",
              "         [-1.3351,  0.0581, -0.9335, -0.4505, -1.4190],\n",
              "         [ 0.1744, -0.6901,  2.0062, -1.0511,  0.4383]]))"
            ]
          },
          "metadata": {},
          "execution_count": 21
        }
      ]
    },
    {
      "cell_type": "code",
      "source": [
        "a = torch.eye(5).unsqueeze(0).expand((10,5,5))\n",
        "b = stds.unsqueeze(-1).expand_as(a)\n",
        "cov_mat = b*a\n",
        "cov_mat.shape"
      ],
      "metadata": {
        "colab": {
          "base_uri": "https://localhost:8080/"
        },
        "id": "ASAMcCGAljey",
        "outputId": "9346f77f-4f19-4783-d5a7-d4fe4b6ea0b7"
      },
      "execution_count": 51,
      "outputs": [
        {
          "output_type": "execute_result",
          "data": {
            "text/plain": [
              "torch.Size([10, 5, 5])"
            ]
          },
          "metadata": {},
          "execution_count": 51
        }
      ]
    },
    {
      "cell_type": "code",
      "source": [
        "m = distributions.MultivariateNormal(means, cov_mat.abs())\n",
        "m.sample()"
      ],
      "metadata": {
        "colab": {
          "base_uri": "https://localhost:8080/"
        },
        "id": "s8om0_oOlgoF",
        "outputId": "1701769c-3852-4e7c-8634-5f545ebacdfc"
      },
      "execution_count": 52,
      "outputs": [
        {
          "output_type": "execute_result",
          "data": {
            "text/plain": [
              "tensor([[-0.8814,  1.7798,  1.2383,  0.5742,  1.3484],\n",
              "        [-0.1265, -2.3588,  0.5563, -1.8039,  1.2125],\n",
              "        [ 0.0844,  2.5043, -1.0463,  0.1986,  3.6948],\n",
              "        [-1.0231,  0.9243, -1.0509,  0.9579, -1.4947],\n",
              "        [ 0.3585, -0.4100,  1.4560,  0.0885, -1.8726],\n",
              "        [ 0.3916,  2.5412,  1.2092,  0.7095, -1.2538],\n",
              "        [-1.6470,  0.2660,  1.4310, -2.1332,  0.1371],\n",
              "        [-1.5892, -0.0459, -0.6302, -1.3209,  0.6398],\n",
              "        [-0.2174, -1.2773, -0.8166, -2.0783, -0.7382],\n",
              "        [ 0.2645,  1.4677,  0.9534,  1.8103, -0.8951]])"
            ]
          },
          "metadata": {},
          "execution_count": 52
        }
      ]
    },
    {
      "cell_type": "markdown",
      "source": [
        "### Matrix scratchings!!"
      ],
      "metadata": {
        "id": "hYSNavH6swj5"
      }
    },
    {
      "cell_type": "code",
      "source": [
        "a = torch.eye(5).unsqueeze(0).expand((10,5,5))\n",
        "a.shape"
      ],
      "metadata": {
        "colab": {
          "base_uri": "https://localhost:8080/"
        },
        "id": "vlHsN9wBnZID",
        "outputId": "596aa9d7-28a8-44af-b19a-91b9aeadaedf"
      },
      "execution_count": 50,
      "outputs": [
        {
          "output_type": "execute_result",
          "data": {
            "text/plain": [
              "torch.Size([10, 5, 5])"
            ]
          },
          "metadata": {},
          "execution_count": 50
        }
      ]
    },
    {
      "cell_type": "code",
      "source": [
        "a = a.expand((10,5,5))\n",
        "a"
      ],
      "metadata": {
        "colab": {
          "base_uri": "https://localhost:8080/"
        },
        "id": "5PsGVCxUncga",
        "outputId": "a31022dc-5238-4c15-d414-78ed5084a806"
      },
      "execution_count": 34,
      "outputs": [
        {
          "output_type": "execute_result",
          "data": {
            "text/plain": [
              "tensor([[[1., 0., 0., 0., 0.],\n",
              "         [0., 1., 0., 0., 0.],\n",
              "         [0., 0., 1., 0., 0.],\n",
              "         [0., 0., 0., 1., 0.],\n",
              "         [0., 0., 0., 0., 1.]],\n",
              "\n",
              "        [[1., 0., 0., 0., 0.],\n",
              "         [0., 1., 0., 0., 0.],\n",
              "         [0., 0., 1., 0., 0.],\n",
              "         [0., 0., 0., 1., 0.],\n",
              "         [0., 0., 0., 0., 1.]],\n",
              "\n",
              "        [[1., 0., 0., 0., 0.],\n",
              "         [0., 1., 0., 0., 0.],\n",
              "         [0., 0., 1., 0., 0.],\n",
              "         [0., 0., 0., 1., 0.],\n",
              "         [0., 0., 0., 0., 1.]],\n",
              "\n",
              "        [[1., 0., 0., 0., 0.],\n",
              "         [0., 1., 0., 0., 0.],\n",
              "         [0., 0., 1., 0., 0.],\n",
              "         [0., 0., 0., 1., 0.],\n",
              "         [0., 0., 0., 0., 1.]],\n",
              "\n",
              "        [[1., 0., 0., 0., 0.],\n",
              "         [0., 1., 0., 0., 0.],\n",
              "         [0., 0., 1., 0., 0.],\n",
              "         [0., 0., 0., 1., 0.],\n",
              "         [0., 0., 0., 0., 1.]],\n",
              "\n",
              "        [[1., 0., 0., 0., 0.],\n",
              "         [0., 1., 0., 0., 0.],\n",
              "         [0., 0., 1., 0., 0.],\n",
              "         [0., 0., 0., 1., 0.],\n",
              "         [0., 0., 0., 0., 1.]],\n",
              "\n",
              "        [[1., 0., 0., 0., 0.],\n",
              "         [0., 1., 0., 0., 0.],\n",
              "         [0., 0., 1., 0., 0.],\n",
              "         [0., 0., 0., 1., 0.],\n",
              "         [0., 0., 0., 0., 1.]],\n",
              "\n",
              "        [[1., 0., 0., 0., 0.],\n",
              "         [0., 1., 0., 0., 0.],\n",
              "         [0., 0., 1., 0., 0.],\n",
              "         [0., 0., 0., 1., 0.],\n",
              "         [0., 0., 0., 0., 1.]],\n",
              "\n",
              "        [[1., 0., 0., 0., 0.],\n",
              "         [0., 1., 0., 0., 0.],\n",
              "         [0., 0., 1., 0., 0.],\n",
              "         [0., 0., 0., 1., 0.],\n",
              "         [0., 0., 0., 0., 1.]],\n",
              "\n",
              "        [[1., 0., 0., 0., 0.],\n",
              "         [0., 1., 0., 0., 0.],\n",
              "         [0., 0., 1., 0., 0.],\n",
              "         [0., 0., 0., 1., 0.],\n",
              "         [0., 0., 0., 0., 1.]]])"
            ]
          },
          "metadata": {},
          "execution_count": 34
        }
      ]
    },
    {
      "cell_type": "code",
      "source": [
        "b = stds.unsqueeze(-1).expand_as(a)"
      ],
      "metadata": {
        "id": "NpiHKhYmqVzW"
      },
      "execution_count": 48,
      "outputs": []
    },
    {
      "cell_type": "code",
      "source": [
        "b*a"
      ],
      "metadata": {
        "colab": {
          "base_uri": "https://localhost:8080/"
        },
        "id": "1auIRqlysAna",
        "outputId": "1e6c6c1d-cf57-431d-aab0-7913b6ce9ed9"
      },
      "execution_count": 49,
      "outputs": [
        {
          "output_type": "execute_result",
          "data": {
            "text/plain": [
              "tensor([[[-0.0703, -0.0000, -0.0000, -0.0000, -0.0000],\n",
              "         [ 0.0000,  1.3324,  0.0000,  0.0000,  0.0000],\n",
              "         [ 0.0000,  0.0000,  0.1667,  0.0000,  0.0000],\n",
              "         [-0.0000, -0.0000, -0.0000, -0.1345, -0.0000],\n",
              "         [ 0.0000,  0.0000,  0.0000,  0.0000,  0.4825]],\n",
              "\n",
              "        [[-1.0565, -0.0000, -0.0000, -0.0000, -0.0000],\n",
              "         [-0.0000, -1.2195, -0.0000, -0.0000, -0.0000],\n",
              "         [-0.0000, -0.0000, -0.5221, -0.0000, -0.0000],\n",
              "         [ 0.0000,  0.0000,  0.0000,  1.3575,  0.0000],\n",
              "         [-0.0000, -0.0000, -0.0000, -0.0000, -0.7810]],\n",
              "\n",
              "        [[-1.2138, -0.0000, -0.0000, -0.0000, -0.0000],\n",
              "         [-0.0000, -0.3774, -0.0000, -0.0000, -0.0000],\n",
              "         [ 0.0000,  0.0000,  0.9295,  0.0000,  0.0000],\n",
              "         [-0.0000, -0.0000, -0.0000, -1.3361, -0.0000],\n",
              "         [ 0.0000,  0.0000,  0.0000,  0.0000,  0.6219]],\n",
              "\n",
              "        [[ 1.1528,  0.0000,  0.0000,  0.0000,  0.0000],\n",
              "         [ 0.0000,  1.6248,  0.0000,  0.0000,  0.0000],\n",
              "         [-0.0000, -0.0000, -0.8355, -0.0000, -0.0000],\n",
              "         [-0.0000, -0.0000, -0.0000, -0.2293, -0.0000],\n",
              "         [ 0.0000,  0.0000,  0.0000,  0.0000,  0.5784]],\n",
              "\n",
              "        [[-0.3850, -0.0000, -0.0000, -0.0000, -0.0000],\n",
              "         [-0.0000, -0.1346, -0.0000, -0.0000, -0.0000],\n",
              "         [ 0.0000,  0.0000,  0.7041,  0.0000,  0.0000],\n",
              "         [-0.0000, -0.0000, -0.0000, -0.1657, -0.0000],\n",
              "         [-0.0000, -0.0000, -0.0000, -0.0000, -0.6971]],\n",
              "\n",
              "        [[-0.1377, -0.0000, -0.0000, -0.0000, -0.0000],\n",
              "         [ 0.0000,  1.1324,  0.0000,  0.0000,  0.0000],\n",
              "         [-0.0000, -0.0000, -1.6671, -0.0000, -0.0000],\n",
              "         [-0.0000, -0.0000, -0.0000, -0.9383, -0.0000],\n",
              "         [ 0.0000,  0.0000,  0.0000,  0.0000,  1.5566]],\n",
              "\n",
              "        [[-2.2511, -0.0000, -0.0000, -0.0000, -0.0000],\n",
              "         [ 0.0000,  0.8499,  0.0000,  0.0000,  0.0000],\n",
              "         [ 0.0000,  0.0000,  0.5088,  0.0000,  0.0000],\n",
              "         [ 0.0000,  0.0000,  0.0000,  2.7578,  0.0000],\n",
              "         [-0.0000, -0.0000, -0.0000, -0.0000, -1.0534]],\n",
              "\n",
              "        [[-0.6930, -0.0000, -0.0000, -0.0000, -0.0000],\n",
              "         [ 0.0000,  0.3100,  0.0000,  0.0000,  0.0000],\n",
              "         [-0.0000, -0.0000, -0.4274, -0.0000, -0.0000],\n",
              "         [-0.0000, -0.0000, -0.0000, -0.2898, -0.0000],\n",
              "         [-0.0000, -0.0000, -0.0000, -0.0000, -0.6237]],\n",
              "\n",
              "        [[-1.3351, -0.0000, -0.0000, -0.0000, -0.0000],\n",
              "         [ 0.0000,  0.0581,  0.0000,  0.0000,  0.0000],\n",
              "         [-0.0000, -0.0000, -0.9335, -0.0000, -0.0000],\n",
              "         [-0.0000, -0.0000, -0.0000, -0.4505, -0.0000],\n",
              "         [-0.0000, -0.0000, -0.0000, -0.0000, -1.4190]],\n",
              "\n",
              "        [[ 0.1744,  0.0000,  0.0000,  0.0000,  0.0000],\n",
              "         [-0.0000, -0.6901, -0.0000, -0.0000, -0.0000],\n",
              "         [ 0.0000,  0.0000,  2.0062,  0.0000,  0.0000],\n",
              "         [-0.0000, -0.0000, -0.0000, -1.0511, -0.0000],\n",
              "         [ 0.0000,  0.0000,  0.0000,  0.0000,  0.4383]]])"
            ]
          },
          "metadata": {},
          "execution_count": 49
        }
      ]
    },
    {
      "cell_type": "markdown",
      "source": [
        "# Training"
      ],
      "metadata": {
        "id": "KfwV_Fm-s2Fj"
      }
    },
    {
      "cell_type": "code",
      "source": [
        "def eval():\n",
        "  # Lazy eval: let's see how the first test image progresses\n",
        "  with torch.no_grad():\n",
        "    output = ae(test_data.data[0].view(-1).unsqueeze(0).float())\n",
        "    plt.imshow(output.reshape(28,28))\n",
        "    plt.show()  "
      ],
      "metadata": {
        "id": "D0Gvbg62iU4Q"
      },
      "execution_count": null,
      "outputs": []
    },
    {
      "cell_type": "code",
      "source": [
        "config = {\n",
        "    'epochs': 10,\n",
        "    'eval_progression': False, # call eval during training\n",
        "    'eval_steps': 100,\n",
        "    'eval_epoch': True  # call eval after each epoch\n",
        "}"
      ],
      "metadata": {
        "id": "_mVysXhtiU4R"
      },
      "execution_count": 12,
      "outputs": []
    },
    {
      "cell_type": "code",
      "source": [
        "bs = 64 # batch size\n",
        "vae = VAE([784, 256, 4])\n",
        "\n",
        "optimiser = torch.optim.Adam(vae.parameters(), lr=2.5e-4)\n",
        "losses = []\n",
        "for epoch in range(config['epochs']):\n",
        "\n",
        "  # Sample batches in loop\n",
        "  for i, batch in enumerate(iter(train_dataloader)):\n",
        "    images = batch[0].view(batch[0].shape[0], -1)\n",
        "\n",
        "    # forward pass\n",
        "    recon_loss, kl_loss = vae(images)\n",
        "\n",
        "    loss = -recon_loss + kl_loss\n",
        "\n",
        "    optimiser.zero_grad()\n",
        "    loss.backward()\n",
        "    optimiser.step()\n",
        "\n",
        "    # print(epoch, loss.item())\n",
        "    losses.append(loss.item())\n",
        "\n",
        "    if config['eval_progression']:\n",
        "      if i % config['eval_steps'] == 0:\n",
        "        eval()\n",
        "\n",
        "  if config['eval_epoch']:\n",
        "    eval()\n"
      ],
      "metadata": {
        "colab": {
          "base_uri": "https://localhost:8080/",
          "height": 816
        },
        "id": "OFa5TdVCiU4R",
        "outputId": "3c19da77-8673-4f24-a868-8b07517c00d0"
      },
      "execution_count": 21,
      "outputs": [
        {
          "output_type": "stream",
          "name": "stdout",
          "text": [
            "shape of z  torch.Size([64, 4])\n"
          ]
        },
        {
          "output_type": "error",
          "ename": "RuntimeError",
          "evalue": "ignored",
          "traceback": [
            "\u001b[0;31m---------------------------------------------------------------------------\u001b[0m",
            "\u001b[0;31mRuntimeError\u001b[0m                              Traceback (most recent call last)",
            "\u001b[0;32m<ipython-input-21-ba38d2aad7b0>\u001b[0m in \u001b[0;36m<module>\u001b[0;34m()\u001b[0m\n\u001b[1;32m     11\u001b[0m \u001b[0;34m\u001b[0m\u001b[0m\n\u001b[1;32m     12\u001b[0m     \u001b[0;31m# forward pass\u001b[0m\u001b[0;34m\u001b[0m\u001b[0;34m\u001b[0m\u001b[0;34m\u001b[0m\u001b[0m\n\u001b[0;32m---> 13\u001b[0;31m     \u001b[0mrecon_loss\u001b[0m\u001b[0;34m,\u001b[0m \u001b[0mkl_loss\u001b[0m \u001b[0;34m=\u001b[0m \u001b[0mvae\u001b[0m\u001b[0;34m(\u001b[0m\u001b[0mimages\u001b[0m\u001b[0;34m)\u001b[0m\u001b[0;34m\u001b[0m\u001b[0;34m\u001b[0m\u001b[0m\n\u001b[0m\u001b[1;32m     14\u001b[0m \u001b[0;34m\u001b[0m\u001b[0m\n\u001b[1;32m     15\u001b[0m     \u001b[0mloss\u001b[0m \u001b[0;34m=\u001b[0m \u001b[0;34m-\u001b[0m\u001b[0mrecon_loss\u001b[0m \u001b[0;34m+\u001b[0m \u001b[0mkl_loss\u001b[0m\u001b[0;34m\u001b[0m\u001b[0;34m\u001b[0m\u001b[0m\n",
            "\u001b[0;32m/usr/local/lib/python3.7/dist-packages/torch/nn/modules/module.py\u001b[0m in \u001b[0;36m_call_impl\u001b[0;34m(self, *input, **kwargs)\u001b[0m\n\u001b[1;32m   1100\u001b[0m         if not (self._backward_hooks or self._forward_hooks or self._forward_pre_hooks or _global_backward_hooks\n\u001b[1;32m   1101\u001b[0m                 or _global_forward_hooks or _global_forward_pre_hooks):\n\u001b[0;32m-> 1102\u001b[0;31m             \u001b[0;32mreturn\u001b[0m \u001b[0mforward_call\u001b[0m\u001b[0;34m(\u001b[0m\u001b[0;34m*\u001b[0m\u001b[0minput\u001b[0m\u001b[0;34m,\u001b[0m \u001b[0;34m**\u001b[0m\u001b[0mkwargs\u001b[0m\u001b[0;34m)\u001b[0m\u001b[0;34m\u001b[0m\u001b[0;34m\u001b[0m\u001b[0m\n\u001b[0m\u001b[1;32m   1103\u001b[0m         \u001b[0;31m# Do not call functions when jit is used\u001b[0m\u001b[0;34m\u001b[0m\u001b[0;34m\u001b[0m\u001b[0;34m\u001b[0m\u001b[0m\n\u001b[1;32m   1104\u001b[0m         \u001b[0mfull_backward_hooks\u001b[0m\u001b[0;34m,\u001b[0m \u001b[0mnon_full_backward_hooks\u001b[0m \u001b[0;34m=\u001b[0m \u001b[0;34m[\u001b[0m\u001b[0;34m]\u001b[0m\u001b[0;34m,\u001b[0m \u001b[0;34m[\u001b[0m\u001b[0;34m]\u001b[0m\u001b[0;34m\u001b[0m\u001b[0;34m\u001b[0m\u001b[0m\n",
            "\u001b[0;32m<ipython-input-20-2f387ad3c592>\u001b[0m in \u001b[0;36mforward\u001b[0;34m(self, input)\u001b[0m\n\u001b[1;32m     47\u001b[0m     \u001b[0mtorch\u001b[0m\u001b[0;34m.\u001b[0m\u001b[0mmaximum\u001b[0m\u001b[0;34m(\u001b[0m\u001b[0minput\u001b[0m\u001b[0;34m,\u001b[0m \u001b[0mtorch\u001b[0m\u001b[0;34m.\u001b[0m\u001b[0mzeros_like\u001b[0m\u001b[0;34m(\u001b[0m\u001b[0minput\u001b[0m\u001b[0;34m)\u001b[0m\u001b[0;34m,\u001b[0m \u001b[0mout\u001b[0m \u001b[0;34m=\u001b[0m \u001b[0mtransformed_input\u001b[0m\u001b[0;34m)\u001b[0m\u001b[0;34m\u001b[0m\u001b[0;34m\u001b[0m\u001b[0m\n\u001b[1;32m     48\u001b[0m \u001b[0;34m\u001b[0m\u001b[0m\n\u001b[0;32m---> 49\u001b[0;31m     \u001b[0mrecon_loss\u001b[0m \u001b[0;34m=\u001b[0m \u001b[0mdecoder_dist\u001b[0m\u001b[0;34m.\u001b[0m\u001b[0mlog_prob\u001b[0m\u001b[0;34m(\u001b[0m\u001b[0mtransformed_input\u001b[0m\u001b[0;34m.\u001b[0m\u001b[0mbool\u001b[0m\u001b[0;34m(\u001b[0m\u001b[0;34m)\u001b[0m\u001b[0;34m)\u001b[0m\u001b[0;34m\u001b[0m\u001b[0;34m\u001b[0m\u001b[0m\n\u001b[0m\u001b[1;32m     50\u001b[0m \u001b[0;34m\u001b[0m\u001b[0m\n\u001b[1;32m     51\u001b[0m     \u001b[0;31m# KL Loss:\u001b[0m\u001b[0;34m\u001b[0m\u001b[0;34m\u001b[0m\u001b[0;34m\u001b[0m\u001b[0m\n",
            "\u001b[0;32m/usr/local/lib/python3.7/dist-packages/torch/distributions/bernoulli.py\u001b[0m in \u001b[0;36mlog_prob\u001b[0;34m(self, value)\u001b[0m\n\u001b[1;32m     93\u001b[0m             \u001b[0mself\u001b[0m\u001b[0;34m.\u001b[0m\u001b[0m_validate_sample\u001b[0m\u001b[0;34m(\u001b[0m\u001b[0mvalue\u001b[0m\u001b[0;34m)\u001b[0m\u001b[0;34m\u001b[0m\u001b[0;34m\u001b[0m\u001b[0m\n\u001b[1;32m     94\u001b[0m         \u001b[0mlogits\u001b[0m\u001b[0;34m,\u001b[0m \u001b[0mvalue\u001b[0m \u001b[0;34m=\u001b[0m \u001b[0mbroadcast_all\u001b[0m\u001b[0;34m(\u001b[0m\u001b[0mself\u001b[0m\u001b[0;34m.\u001b[0m\u001b[0mlogits\u001b[0m\u001b[0;34m,\u001b[0m \u001b[0mvalue\u001b[0m\u001b[0;34m)\u001b[0m\u001b[0;34m\u001b[0m\u001b[0;34m\u001b[0m\u001b[0m\n\u001b[0;32m---> 95\u001b[0;31m         \u001b[0;32mreturn\u001b[0m \u001b[0;34m-\u001b[0m\u001b[0mbinary_cross_entropy_with_logits\u001b[0m\u001b[0;34m(\u001b[0m\u001b[0mlogits\u001b[0m\u001b[0;34m,\u001b[0m \u001b[0mvalue\u001b[0m\u001b[0;34m,\u001b[0m \u001b[0mreduction\u001b[0m\u001b[0;34m=\u001b[0m\u001b[0;34m'none'\u001b[0m\u001b[0;34m)\u001b[0m\u001b[0;34m\u001b[0m\u001b[0;34m\u001b[0m\u001b[0m\n\u001b[0m\u001b[1;32m     96\u001b[0m \u001b[0;34m\u001b[0m\u001b[0m\n\u001b[1;32m     97\u001b[0m     \u001b[0;32mdef\u001b[0m \u001b[0mentropy\u001b[0m\u001b[0;34m(\u001b[0m\u001b[0mself\u001b[0m\u001b[0;34m)\u001b[0m\u001b[0;34m:\u001b[0m\u001b[0;34m\u001b[0m\u001b[0;34m\u001b[0m\u001b[0m\n",
            "\u001b[0;32m/usr/local/lib/python3.7/dist-packages/torch/nn/functional.py\u001b[0m in \u001b[0;36mbinary_cross_entropy_with_logits\u001b[0;34m(input, target, weight, size_average, reduce, reduction, pos_weight)\u001b[0m\n\u001b[1;32m   2980\u001b[0m         \u001b[0;32mraise\u001b[0m \u001b[0mValueError\u001b[0m\u001b[0;34m(\u001b[0m\u001b[0;34m\"Target size ({}) must be the same as input size ({})\"\u001b[0m\u001b[0;34m.\u001b[0m\u001b[0mformat\u001b[0m\u001b[0;34m(\u001b[0m\u001b[0mtarget\u001b[0m\u001b[0;34m.\u001b[0m\u001b[0msize\u001b[0m\u001b[0;34m(\u001b[0m\u001b[0;34m)\u001b[0m\u001b[0;34m,\u001b[0m \u001b[0minput\u001b[0m\u001b[0;34m.\u001b[0m\u001b[0msize\u001b[0m\u001b[0;34m(\u001b[0m\u001b[0;34m)\u001b[0m\u001b[0;34m)\u001b[0m\u001b[0;34m)\u001b[0m\u001b[0;34m\u001b[0m\u001b[0;34m\u001b[0m\u001b[0m\n\u001b[1;32m   2981\u001b[0m \u001b[0;34m\u001b[0m\u001b[0m\n\u001b[0;32m-> 2982\u001b[0;31m     \u001b[0;32mreturn\u001b[0m \u001b[0mtorch\u001b[0m\u001b[0;34m.\u001b[0m\u001b[0mbinary_cross_entropy_with_logits\u001b[0m\u001b[0;34m(\u001b[0m\u001b[0minput\u001b[0m\u001b[0;34m,\u001b[0m \u001b[0mtarget\u001b[0m\u001b[0;34m,\u001b[0m \u001b[0mweight\u001b[0m\u001b[0;34m,\u001b[0m \u001b[0mpos_weight\u001b[0m\u001b[0;34m,\u001b[0m \u001b[0mreduction_enum\u001b[0m\u001b[0;34m)\u001b[0m\u001b[0;34m\u001b[0m\u001b[0;34m\u001b[0m\u001b[0m\n\u001b[0m\u001b[1;32m   2983\u001b[0m \u001b[0;34m\u001b[0m\u001b[0m\n\u001b[1;32m   2984\u001b[0m \u001b[0;34m\u001b[0m\u001b[0m\n",
            "\u001b[0;31mRuntimeError\u001b[0m: Subtraction, the `-` operator, with two bool tensors is not supported. Use the `^` or `logical_xor()` operator instead."
          ]
        }
      ]
    },
    {
      "cell_type": "code",
      "source": [
        "%debug"
      ],
      "metadata": {
        "colab": {
          "base_uri": "https://localhost:8080/"
        },
        "id": "u01mOYT6zaKO",
        "outputId": "c87f7012-3b6b-4a34-c855-97410cc42a0f"
      },
      "execution_count": 14,
      "outputs": [
        {
          "name": "stdout",
          "output_type": "stream",
          "text": [
            "> \u001b[0;32m/usr/local/lib/python3.7/dist-packages/torch/distributions/distribution.py\u001b[0m(289)\u001b[0;36m_validate_sample\u001b[0;34m()\u001b[0m\n",
            "\u001b[0;32m    287 \u001b[0;31m        \u001b[0;32mif\u001b[0m \u001b[0;32mnot\u001b[0m \u001b[0mvalid\u001b[0m\u001b[0;34m.\u001b[0m\u001b[0mall\u001b[0m\u001b[0;34m(\u001b[0m\u001b[0;34m)\u001b[0m\u001b[0;34m:\u001b[0m\u001b[0;34m\u001b[0m\u001b[0;34m\u001b[0m\u001b[0m\n",
            "\u001b[0m\u001b[0;32m    288 \u001b[0;31m            raise ValueError(\n",
            "\u001b[0m\u001b[0;32m--> 289 \u001b[0;31m                \u001b[0;34m\"Expected value argument \"\u001b[0m\u001b[0;34m\u001b[0m\u001b[0;34m\u001b[0m\u001b[0m\n",
            "\u001b[0m\u001b[0;32m    290 \u001b[0;31m                \u001b[0;34mf\"({type(value).__name__} of shape {tuple(value.shape)}) \"\u001b[0m\u001b[0;34m\u001b[0m\u001b[0;34m\u001b[0m\u001b[0m\n",
            "\u001b[0m\u001b[0;32m    291 \u001b[0;31m                \u001b[0;34mf\"to be within the support ({repr(support)}) \"\u001b[0m\u001b[0;34m\u001b[0m\u001b[0;34m\u001b[0m\u001b[0m\n",
            "\u001b[0m\n",
            "ipdb> up\n",
            "> \u001b[0;32m/usr/local/lib/python3.7/dist-packages/torch/distributions/bernoulli.py\u001b[0m(93)\u001b[0;36mlog_prob\u001b[0;34m()\u001b[0m\n",
            "\u001b[0;32m     91 \u001b[0;31m    \u001b[0;32mdef\u001b[0m \u001b[0mlog_prob\u001b[0m\u001b[0;34m(\u001b[0m\u001b[0mself\u001b[0m\u001b[0;34m,\u001b[0m \u001b[0mvalue\u001b[0m\u001b[0;34m)\u001b[0m\u001b[0;34m:\u001b[0m\u001b[0;34m\u001b[0m\u001b[0;34m\u001b[0m\u001b[0m\n",
            "\u001b[0m\u001b[0;32m     92 \u001b[0;31m        \u001b[0;32mif\u001b[0m \u001b[0mself\u001b[0m\u001b[0;34m.\u001b[0m\u001b[0m_validate_args\u001b[0m\u001b[0;34m:\u001b[0m\u001b[0;34m\u001b[0m\u001b[0;34m\u001b[0m\u001b[0m\n",
            "\u001b[0m\u001b[0;32m---> 93 \u001b[0;31m            \u001b[0mself\u001b[0m\u001b[0;34m.\u001b[0m\u001b[0m_validate_sample\u001b[0m\u001b[0;34m(\u001b[0m\u001b[0mvalue\u001b[0m\u001b[0;34m)\u001b[0m\u001b[0;34m\u001b[0m\u001b[0;34m\u001b[0m\u001b[0m\n",
            "\u001b[0m\u001b[0;32m     94 \u001b[0;31m        \u001b[0mlogits\u001b[0m\u001b[0;34m,\u001b[0m \u001b[0mvalue\u001b[0m \u001b[0;34m=\u001b[0m \u001b[0mbroadcast_all\u001b[0m\u001b[0;34m(\u001b[0m\u001b[0mself\u001b[0m\u001b[0;34m.\u001b[0m\u001b[0mlogits\u001b[0m\u001b[0;34m,\u001b[0m \u001b[0mvalue\u001b[0m\u001b[0;34m)\u001b[0m\u001b[0;34m\u001b[0m\u001b[0;34m\u001b[0m\u001b[0m\n",
            "\u001b[0m\u001b[0;32m     95 \u001b[0;31m        \u001b[0;32mreturn\u001b[0m \u001b[0;34m-\u001b[0m\u001b[0mbinary_cross_entropy_with_logits\u001b[0m\u001b[0;34m(\u001b[0m\u001b[0mlogits\u001b[0m\u001b[0;34m,\u001b[0m \u001b[0mvalue\u001b[0m\u001b[0;34m,\u001b[0m \u001b[0mreduction\u001b[0m\u001b[0;34m=\u001b[0m\u001b[0;34m'none'\u001b[0m\u001b[0;34m)\u001b[0m\u001b[0;34m\u001b[0m\u001b[0;34m\u001b[0m\u001b[0m\n",
            "\u001b[0m\n",
            "ipdb> up\n",
            "> \u001b[0;32m<ipython-input-11-bc0fdcf6c8e6>\u001b[0m(44)\u001b[0;36mforward\u001b[0;34m()\u001b[0m\n",
            "\u001b[0;32m     42 \u001b[0;31m    \u001b[0mdecoder_dist\u001b[0m \u001b[0;34m=\u001b[0m \u001b[0mtorch\u001b[0m\u001b[0;34m.\u001b[0m\u001b[0mdistributions\u001b[0m\u001b[0;34m.\u001b[0m\u001b[0mBernoulli\u001b[0m\u001b[0;34m(\u001b[0m\u001b[0mlogits\u001b[0m \u001b[0;34m=\u001b[0m \u001b[0mdecoder_output\u001b[0m\u001b[0;34m)\u001b[0m\u001b[0;34m\u001b[0m\u001b[0;34m\u001b[0m\u001b[0m\n",
            "\u001b[0m\u001b[0;32m     43 \u001b[0;31m    \u001b[0;31m# x_hat = decoder_dist.sample().reshape(-1,28,28)\u001b[0m\u001b[0;34m\u001b[0m\u001b[0;34m\u001b[0m\u001b[0;34m\u001b[0m\u001b[0m\n",
            "\u001b[0m\u001b[0;32m---> 44 \u001b[0;31m    \u001b[0mrecon_loss\u001b[0m \u001b[0;34m=\u001b[0m \u001b[0mdecoder_dist\u001b[0m\u001b[0;34m.\u001b[0m\u001b[0mlog_prob\u001b[0m\u001b[0;34m(\u001b[0m\u001b[0minput\u001b[0m\u001b[0;34m.\u001b[0m\u001b[0mfloat\u001b[0m\u001b[0;34m(\u001b[0m\u001b[0;34m)\u001b[0m\u001b[0;34m.\u001b[0m\u001b[0msigmoid\u001b[0m\u001b[0;34m(\u001b[0m\u001b[0;34m)\u001b[0m\u001b[0;34m)\u001b[0m\u001b[0;34m\u001b[0m\u001b[0;34m\u001b[0m\u001b[0m\n",
            "\u001b[0m\u001b[0;32m     45 \u001b[0;31m\u001b[0;34m\u001b[0m\u001b[0m\n",
            "\u001b[0m\u001b[0;32m     46 \u001b[0;31m    \u001b[0;31m# KL Loss:\u001b[0m\u001b[0;34m\u001b[0m\u001b[0;34m\u001b[0m\u001b[0;34m\u001b[0m\u001b[0m\n",
            "\u001b[0m\n",
            "ipdb> decoder_dist.log_prob(input.float().sigmoid())\n",
            "*** ValueError: Expected value argument (Tensor of shape (64, 784)) to be within the support (Boolean()) of the distribution Bernoulli(logits: torch.Size([64, 784])), but found invalid values:\n",
            "tensor([[0.5000, 0.5000, 0.5000,  ..., 0.5000, 0.5000, 0.5000],\n",
            "        [0.5000, 0.5000, 0.5000,  ..., 0.5000, 0.5000, 0.5000],\n",
            "        [0.5000, 0.5000, 0.5000,  ..., 0.5000, 0.5000, 0.5000],\n",
            "        ...,\n",
            "        [0.5000, 0.5000, 0.5000,  ..., 0.5000, 0.5000, 0.5000],\n",
            "        [0.5000, 0.5000, 0.5000,  ..., 0.5000, 0.5000, 0.5000],\n",
            "        [0.5000, 0.5000, 0.5000,  ..., 0.5000, 0.5000, 0.5000]])\n",
            "ipdb> exit\n"
          ]
        },
        {
          "output_type": "stream",
          "name": "stderr",
          "text": [
            "\n",
            "PYDEV DEBUGGER WARNING:\n",
            "sys.settrace() should not be used when the debugger is being used.\n",
            "This may cause the debugger to stop working correctly.\n",
            "If this is needed, please check: \n",
            "http://pydev.blogspot.com/2007/06/why-cant-pydev-debugger-work-with.html\n",
            "to see how to restore the debug tracing back correctly.\n",
            "Call Location:\n",
            "  File \"/usr/lib/python3.7/bdb.py\", line 357, in set_quit\n",
            "    sys.settrace(None)\n",
            "\n"
          ]
        }
      ]
    },
    {
      "cell_type": "code",
      "source": [
        "s = torch.tensor([-0.1, 0.0, 3.0])\n",
        "t = torch.zeros_like(s)\n",
        "torch.maximum(s, torch.zeros_like(s), out = t)\n",
        "t"
      ],
      "metadata": {
        "colab": {
          "base_uri": "https://localhost:8080/"
        },
        "id": "XyZorS3TmgBG",
        "outputId": "5a0028a5-fbe7-4239-bd9c-a5f2fcce4b1a"
      },
      "execution_count": 17,
      "outputs": [
        {
          "output_type": "execute_result",
          "data": {
            "text/plain": [
              "tensor([0., 0., 3.])"
            ]
          },
          "metadata": {},
          "execution_count": 17
        }
      ]
    },
    {
      "cell_type": "code",
      "source": [
        "distributions.Bernoulli(logits=torch.randn(5)).log_prob(torch.zeros(5))"
      ],
      "metadata": {
        "colab": {
          "base_uri": "https://localhost:8080/"
        },
        "id": "arfYYKsP2Irq",
        "outputId": "2e3fec3c-a384-45e3-9347-cb4cb9fe75cf"
      },
      "execution_count": 83,
      "outputs": [
        {
          "output_type": "execute_result",
          "data": {
            "text/plain": [
              "tensor([-0.8114, -0.9609, -1.0940, -1.3499, -1.0643])"
            ]
          },
          "metadata": {},
          "execution_count": 83
        }
      ]
    },
    {
      "cell_type": "code",
      "source": [
        "image"
      ],
      "metadata": {
        "id": "jKcX7ep72we8"
      },
      "execution_count": null,
      "outputs": []
    },
    {
      "cell_type": "code",
      "source": [
        "test_data.data[0].shape, test_data.data[0].view(-1).unsqueeze(0).shape"
      ],
      "metadata": {
        "colab": {
          "base_uri": "https://localhost:8080/"
        },
        "outputId": "48e66ff8-f92e-46b5-cab2-7b88f7ac0870",
        "id": "Jze2BM9biU4R"
      },
      "execution_count": null,
      "outputs": [
        {
          "output_type": "execute_result",
          "data": {
            "text/plain": [
              "(torch.Size([28, 28]), torch.Size([1, 784]))"
            ]
          },
          "metadata": {},
          "execution_count": 10
        }
      ]
    },
    {
      "cell_type": "code",
      "source": [
        "plt.imshow(test_data.data[0])\n",
        "plt.show()"
      ],
      "metadata": {
        "colab": {
          "base_uri": "https://localhost:8080/",
          "height": 265
        },
        "outputId": "5ad09c6f-d34a-4ba2-f6d3-dfadc8d4dce6",
        "id": "Rb1KEAgCiU4R"
      },
      "execution_count": null,
      "outputs": [
        {
          "output_type": "display_data",
          "data": {
            "image/png": "[encoded data removed]",
            "text/plain": [
              "<Figure size 432x288 with 1 Axes>"
            ]
          },
          "metadata": {
            "needs_background": "light"
          }
        }
      ]
    },
    {
      "cell_type": "code",
      "source": [
        "eval()"
      ],
      "metadata": {
        "colab": {
          "base_uri": "https://localhost:8080/",
          "height": 265
        },
        "outputId": "efb57d2e-61ff-4322-da36-c3fc5db2c5ae",
        "id": "JduocD9UiU4S"
      },
      "execution_count": null,
      "outputs": [
        {
          "output_type": "display_data",
          "data": {
            "image/png": "[encoded data removed]",
            "text/plain": [
              "<Figure size 432x288 with 1 Axes>"
            ]
          },
          "metadata": {
            "needs_background": "light"
          }
        }
      ]
    }
  ]
}